{
 "cells": [
  {
   "attachments": {},
   "cell_type": "markdown",
   "metadata": {},
   "source": [
    "# Uber and Lyft Analysis in Boston, MA 2018\n",
    "\n",
    "Zaki Syaiful Hunafa \n",
    "\n",
    "RMT-018"
   ]
  },
  {
   "attachments": {},
   "cell_type": "markdown",
   "metadata": {},
   "source": [
    "# 1. Description\n",
    "\n",
    "## Objective\n",
    "\n",
    "Online taxi services have revolutionized the transportation industry by providing a convenient and reliable option for people to commute. With the increasing popularity of online taxi services, there has been a significant shift in the way people travel, with many choosing to opt for these services over traditional taxis. One of the primary reasons for this shift is the simplicity of the booking process. With just a few clicks on a mobile app, passengers can easily book a ride and track their driver in real-time.\n",
    "\n",
    "Another reason why online taxi services have become so popular is the transparency of the pricing. Unlike traditional taxis, online taxi services offer upfront pricing, so passengers know exactly how much they will be paying before they even get into the cab. This helps eliminate any surprises or hidden costs that might arise during the trip.\n",
    "\n",
    "To analyze the performance of online taxi services, the dataset from Kaggle will be used. This dataset contains information about Uber and Lyft trips in Boston, MA, including details about the type of service requested, the pickup and dropoff locations, the fare, and the duration of the trip. Using this dataset, the objective of the analysis is to make accurate predictions about the cab service that passengers are likely to choose, as well as the service of each cab.\n",
    "\n",
    "To achieve this objective, machine learning techniques such as classification and regression analysis will be employed. The dataset will be divided into training and testing sets, with the training set used to train the model, and the testing set used to evaluate its accuracy. To ensure that the model is accurate, a threshold of `90% accuracy` is set.\n",
    "\n",
    "Overall, the analysis of the dataset from Kaggle will provide valuable insights into the performance of online taxi services in Boston, MA, and the factors that influence passenger decisions when choosing a cab service. By accurately predicting the cab service that passengers are likely to choose, online taxi services can optimize their operations and provide a better experience for their customers."
   ]
  },
  {
   "attachments": {},
   "cell_type": "markdown",
   "metadata": {},
   "source": [
    "# 2. Import Libraries"
   ]
  },
  {
   "cell_type": "code",
   "execution_count": 297,
   "metadata": {},
   "outputs": [],
   "source": [
    "import pandas as pd\n",
    "import numpy as np\n",
    "import matplotlib.pyplot as plt\n",
    "import seaborn as sns\n",
    "import warnings\n",
    "warnings.filterwarnings('ignore')\n",
    "import datetime\n",
    "\n",
    "# To Encode Categorical Column\n",
    "from sklearn.preprocessing import OneHotEncoder\n",
    "from sklearn.preprocessing import OrdinalEncoder\n",
    "\n",
    "# To Scalling Numerical Column\n",
    "from sklearn.preprocessing import MinMaxScaler\n",
    "\n",
    "# For Regression Problems\n",
    "from sklearn.linear_model import LinearRegression\n",
    "\n",
    "# Split Dataset and Standarize the Datasets\n",
    "from sklearn.model_selection import train_test_split\n",
    "from sklearn.preprocessing import StandardScaler\n",
    "\n",
    "from sklearn.metrics import mean_absolute_error, r2_score, mean_absolute_percentage_error\n",
    "\n",
    "# Save data\n",
    "import pickle\n",
    "import json"
   ]
  },
  {
   "attachments": {},
   "cell_type": "markdown",
   "metadata": {},
   "source": [
    "# 3. Data Loading\n",
    "\n",
    "\n",
    "The dataset is taken from kaggle: https://www.kaggle.com/brllrb/uber-and-lyft-dataset-boston-ma"
   ]
  },
  {
   "cell_type": "code",
   "execution_count": 298,
   "metadata": {},
   "outputs": [
    {
     "data": {
      "text/html": [
       "<div>\n",
       "<style scoped>\n",
       "    .dataframe tbody tr th:only-of-type {\n",
       "        vertical-align: middle;\n",
       "    }\n",
       "\n",
       "    .dataframe tbody tr th {\n",
       "        vertical-align: top;\n",
       "    }\n",
       "\n",
       "    .dataframe thead th {\n",
       "        text-align: right;\n",
       "    }\n",
       "</style>\n",
       "<table border=\"1\" class=\"dataframe\">\n",
       "  <thead>\n",
       "    <tr style=\"text-align: right;\">\n",
       "      <th></th>\n",
       "      <th>id</th>\n",
       "      <th>timestamp</th>\n",
       "      <th>hour</th>\n",
       "      <th>day</th>\n",
       "      <th>month</th>\n",
       "      <th>datetime</th>\n",
       "      <th>timezone</th>\n",
       "      <th>source</th>\n",
       "      <th>destination</th>\n",
       "      <th>cab_type</th>\n",
       "      <th>product_id</th>\n",
       "      <th>name</th>\n",
       "      <th>price</th>\n",
       "      <th>distance</th>\n",
       "      <th>surge_multiplier</th>\n",
       "      <th>latitude</th>\n",
       "      <th>longitude</th>\n",
       "      <th>temperature</th>\n",
       "      <th>apparentTemperature</th>\n",
       "      <th>short_summary</th>\n",
       "      <th>long_summary</th>\n",
       "      <th>precipIntensity</th>\n",
       "      <th>precipProbability</th>\n",
       "      <th>humidity</th>\n",
       "      <th>windSpeed</th>\n",
       "      <th>windGust</th>\n",
       "      <th>windGustTime</th>\n",
       "      <th>visibility</th>\n",
       "      <th>temperatureHigh</th>\n",
       "      <th>temperatureHighTime</th>\n",
       "      <th>temperatureLow</th>\n",
       "      <th>temperatureLowTime</th>\n",
       "      <th>apparentTemperatureHigh</th>\n",
       "      <th>apparentTemperatureHighTime</th>\n",
       "      <th>apparentTemperatureLow</th>\n",
       "      <th>apparentTemperatureLowTime</th>\n",
       "      <th>icon</th>\n",
       "      <th>dewPoint</th>\n",
       "      <th>pressure</th>\n",
       "      <th>windBearing</th>\n",
       "      <th>cloudCover</th>\n",
       "      <th>uvIndex</th>\n",
       "      <th>visibility.1</th>\n",
       "      <th>ozone</th>\n",
       "      <th>sunriseTime</th>\n",
       "      <th>sunsetTime</th>\n",
       "      <th>moonPhase</th>\n",
       "      <th>precipIntensityMax</th>\n",
       "      <th>uvIndexTime</th>\n",
       "      <th>temperatureMin</th>\n",
       "      <th>temperatureMinTime</th>\n",
       "      <th>temperatureMax</th>\n",
       "      <th>temperatureMaxTime</th>\n",
       "      <th>apparentTemperatureMin</th>\n",
       "      <th>apparentTemperatureMinTime</th>\n",
       "      <th>apparentTemperatureMax</th>\n",
       "      <th>apparentTemperatureMaxTime</th>\n",
       "    </tr>\n",
       "  </thead>\n",
       "  <tbody>\n",
       "    <tr>\n",
       "      <th>0</th>\n",
       "      <td>424553bb-7174-41ea-aeb4-fe06d4f4b9d7</td>\n",
       "      <td>1.544953e+09</td>\n",
       "      <td>9</td>\n",
       "      <td>16</td>\n",
       "      <td>12</td>\n",
       "      <td>2018-12-16 09:30:07</td>\n",
       "      <td>America/New_York</td>\n",
       "      <td>Haymarket Square</td>\n",
       "      <td>North Station</td>\n",
       "      <td>Lyft</td>\n",
       "      <td>lyft_line</td>\n",
       "      <td>Shared</td>\n",
       "      <td>5.0</td>\n",
       "      <td>0.44</td>\n",
       "      <td>1.0</td>\n",
       "      <td>42.2148</td>\n",
       "      <td>-71.033</td>\n",
       "      <td>42.34</td>\n",
       "      <td>37.12</td>\n",
       "      <td>Mostly Cloudy</td>\n",
       "      <td>Rain throughout the day.</td>\n",
       "      <td>0.0000</td>\n",
       "      <td>0.0</td>\n",
       "      <td>0.68</td>\n",
       "      <td>8.66</td>\n",
       "      <td>9.17</td>\n",
       "      <td>1545015600</td>\n",
       "      <td>10.000</td>\n",
       "      <td>43.68</td>\n",
       "      <td>1544968800</td>\n",
       "      <td>34.19</td>\n",
       "      <td>1545048000</td>\n",
       "      <td>37.95</td>\n",
       "      <td>1544968800</td>\n",
       "      <td>27.39</td>\n",
       "      <td>1545044400</td>\n",
       "      <td>partly-cloudy-night</td>\n",
       "      <td>32.70</td>\n",
       "      <td>1021.98</td>\n",
       "      <td>57</td>\n",
       "      <td>0.72</td>\n",
       "      <td>0</td>\n",
       "      <td>10.000</td>\n",
       "      <td>303.8</td>\n",
       "      <td>1544962084</td>\n",
       "      <td>1544994864</td>\n",
       "      <td>0.30</td>\n",
       "      <td>0.1276</td>\n",
       "      <td>1544979600</td>\n",
       "      <td>39.89</td>\n",
       "      <td>1545012000</td>\n",
       "      <td>43.68</td>\n",
       "      <td>1544968800</td>\n",
       "      <td>33.73</td>\n",
       "      <td>1545012000</td>\n",
       "      <td>38.07</td>\n",
       "      <td>1544958000</td>\n",
       "    </tr>\n",
       "    <tr>\n",
       "      <th>1</th>\n",
       "      <td>4bd23055-6827-41c6-b23b-3c491f24e74d</td>\n",
       "      <td>1.543284e+09</td>\n",
       "      <td>2</td>\n",
       "      <td>27</td>\n",
       "      <td>11</td>\n",
       "      <td>2018-11-27 02:00:23</td>\n",
       "      <td>America/New_York</td>\n",
       "      <td>Haymarket Square</td>\n",
       "      <td>North Station</td>\n",
       "      <td>Lyft</td>\n",
       "      <td>lyft_premier</td>\n",
       "      <td>Lux</td>\n",
       "      <td>11.0</td>\n",
       "      <td>0.44</td>\n",
       "      <td>1.0</td>\n",
       "      <td>42.2148</td>\n",
       "      <td>-71.033</td>\n",
       "      <td>43.58</td>\n",
       "      <td>37.35</td>\n",
       "      <td>Rain</td>\n",
       "      <td>Rain until morning, starting again in the eve...</td>\n",
       "      <td>0.1299</td>\n",
       "      <td>1.0</td>\n",
       "      <td>0.94</td>\n",
       "      <td>11.98</td>\n",
       "      <td>11.98</td>\n",
       "      <td>1543291200</td>\n",
       "      <td>4.786</td>\n",
       "      <td>47.30</td>\n",
       "      <td>1543251600</td>\n",
       "      <td>42.10</td>\n",
       "      <td>1543298400</td>\n",
       "      <td>43.92</td>\n",
       "      <td>1543251600</td>\n",
       "      <td>36.20</td>\n",
       "      <td>1543291200</td>\n",
       "      <td>rain</td>\n",
       "      <td>41.83</td>\n",
       "      <td>1003.97</td>\n",
       "      <td>90</td>\n",
       "      <td>1.00</td>\n",
       "      <td>0</td>\n",
       "      <td>4.786</td>\n",
       "      <td>291.1</td>\n",
       "      <td>1543232969</td>\n",
       "      <td>1543266992</td>\n",
       "      <td>0.64</td>\n",
       "      <td>0.1300</td>\n",
       "      <td>1543251600</td>\n",
       "      <td>40.49</td>\n",
       "      <td>1543233600</td>\n",
       "      <td>47.30</td>\n",
       "      <td>1543251600</td>\n",
       "      <td>36.20</td>\n",
       "      <td>1543291200</td>\n",
       "      <td>43.92</td>\n",
       "      <td>1543251600</td>\n",
       "    </tr>\n",
       "    <tr>\n",
       "      <th>2</th>\n",
       "      <td>981a3613-77af-4620-a42a-0c0866077d1e</td>\n",
       "      <td>1.543367e+09</td>\n",
       "      <td>1</td>\n",
       "      <td>28</td>\n",
       "      <td>11</td>\n",
       "      <td>2018-11-28 01:00:22</td>\n",
       "      <td>America/New_York</td>\n",
       "      <td>Haymarket Square</td>\n",
       "      <td>North Station</td>\n",
       "      <td>Lyft</td>\n",
       "      <td>lyft</td>\n",
       "      <td>Lyft</td>\n",
       "      <td>7.0</td>\n",
       "      <td>0.44</td>\n",
       "      <td>1.0</td>\n",
       "      <td>42.2148</td>\n",
       "      <td>-71.033</td>\n",
       "      <td>38.33</td>\n",
       "      <td>32.93</td>\n",
       "      <td>Clear</td>\n",
       "      <td>Light rain in the morning.</td>\n",
       "      <td>0.0000</td>\n",
       "      <td>0.0</td>\n",
       "      <td>0.75</td>\n",
       "      <td>7.33</td>\n",
       "      <td>7.33</td>\n",
       "      <td>1543334400</td>\n",
       "      <td>10.000</td>\n",
       "      <td>47.55</td>\n",
       "      <td>1543320000</td>\n",
       "      <td>33.10</td>\n",
       "      <td>1543402800</td>\n",
       "      <td>44.12</td>\n",
       "      <td>1543320000</td>\n",
       "      <td>29.11</td>\n",
       "      <td>1543392000</td>\n",
       "      <td>clear-night</td>\n",
       "      <td>31.10</td>\n",
       "      <td>992.28</td>\n",
       "      <td>240</td>\n",
       "      <td>0.03</td>\n",
       "      <td>0</td>\n",
       "      <td>10.000</td>\n",
       "      <td>315.7</td>\n",
       "      <td>1543319437</td>\n",
       "      <td>1543353364</td>\n",
       "      <td>0.68</td>\n",
       "      <td>0.1064</td>\n",
       "      <td>1543338000</td>\n",
       "      <td>35.36</td>\n",
       "      <td>1543377600</td>\n",
       "      <td>47.55</td>\n",
       "      <td>1543320000</td>\n",
       "      <td>31.04</td>\n",
       "      <td>1543377600</td>\n",
       "      <td>44.12</td>\n",
       "      <td>1543320000</td>\n",
       "    </tr>\n",
       "    <tr>\n",
       "      <th>3</th>\n",
       "      <td>c2d88af2-d278-4bfd-a8d0-29ca77cc5512</td>\n",
       "      <td>1.543554e+09</td>\n",
       "      <td>4</td>\n",
       "      <td>30</td>\n",
       "      <td>11</td>\n",
       "      <td>2018-11-30 04:53:02</td>\n",
       "      <td>America/New_York</td>\n",
       "      <td>Haymarket Square</td>\n",
       "      <td>North Station</td>\n",
       "      <td>Lyft</td>\n",
       "      <td>lyft_luxsuv</td>\n",
       "      <td>Lux Black XL</td>\n",
       "      <td>26.0</td>\n",
       "      <td>0.44</td>\n",
       "      <td>1.0</td>\n",
       "      <td>42.2148</td>\n",
       "      <td>-71.033</td>\n",
       "      <td>34.38</td>\n",
       "      <td>29.63</td>\n",
       "      <td>Clear</td>\n",
       "      <td>Partly cloudy throughout the day.</td>\n",
       "      <td>0.0000</td>\n",
       "      <td>0.0</td>\n",
       "      <td>0.73</td>\n",
       "      <td>5.28</td>\n",
       "      <td>5.28</td>\n",
       "      <td>1543514400</td>\n",
       "      <td>10.000</td>\n",
       "      <td>45.03</td>\n",
       "      <td>1543510800</td>\n",
       "      <td>28.90</td>\n",
       "      <td>1543579200</td>\n",
       "      <td>38.53</td>\n",
       "      <td>1543510800</td>\n",
       "      <td>26.20</td>\n",
       "      <td>1543575600</td>\n",
       "      <td>clear-night</td>\n",
       "      <td>26.64</td>\n",
       "      <td>1013.73</td>\n",
       "      <td>310</td>\n",
       "      <td>0.00</td>\n",
       "      <td>0</td>\n",
       "      <td>10.000</td>\n",
       "      <td>291.1</td>\n",
       "      <td>1543492370</td>\n",
       "      <td>1543526114</td>\n",
       "      <td>0.75</td>\n",
       "      <td>0.0000</td>\n",
       "      <td>1543507200</td>\n",
       "      <td>34.67</td>\n",
       "      <td>1543550400</td>\n",
       "      <td>45.03</td>\n",
       "      <td>1543510800</td>\n",
       "      <td>30.30</td>\n",
       "      <td>1543550400</td>\n",
       "      <td>38.53</td>\n",
       "      <td>1543510800</td>\n",
       "    </tr>\n",
       "    <tr>\n",
       "      <th>4</th>\n",
       "      <td>e0126e1f-8ca9-4f2e-82b3-50505a09db9a</td>\n",
       "      <td>1.543463e+09</td>\n",
       "      <td>3</td>\n",
       "      <td>29</td>\n",
       "      <td>11</td>\n",
       "      <td>2018-11-29 03:49:20</td>\n",
       "      <td>America/New_York</td>\n",
       "      <td>Haymarket Square</td>\n",
       "      <td>North Station</td>\n",
       "      <td>Lyft</td>\n",
       "      <td>lyft_plus</td>\n",
       "      <td>Lyft XL</td>\n",
       "      <td>9.0</td>\n",
       "      <td>0.44</td>\n",
       "      <td>1.0</td>\n",
       "      <td>42.2148</td>\n",
       "      <td>-71.033</td>\n",
       "      <td>37.44</td>\n",
       "      <td>30.88</td>\n",
       "      <td>Partly Cloudy</td>\n",
       "      <td>Mostly cloudy throughout the day.</td>\n",
       "      <td>0.0000</td>\n",
       "      <td>0.0</td>\n",
       "      <td>0.70</td>\n",
       "      <td>9.14</td>\n",
       "      <td>9.14</td>\n",
       "      <td>1543446000</td>\n",
       "      <td>10.000</td>\n",
       "      <td>42.18</td>\n",
       "      <td>1543420800</td>\n",
       "      <td>36.71</td>\n",
       "      <td>1543478400</td>\n",
       "      <td>35.75</td>\n",
       "      <td>1543420800</td>\n",
       "      <td>30.29</td>\n",
       "      <td>1543460400</td>\n",
       "      <td>partly-cloudy-night</td>\n",
       "      <td>28.61</td>\n",
       "      <td>998.36</td>\n",
       "      <td>303</td>\n",
       "      <td>0.44</td>\n",
       "      <td>0</td>\n",
       "      <td>10.000</td>\n",
       "      <td>347.7</td>\n",
       "      <td>1543405904</td>\n",
       "      <td>1543439738</td>\n",
       "      <td>0.72</td>\n",
       "      <td>0.0001</td>\n",
       "      <td>1543420800</td>\n",
       "      <td>33.10</td>\n",
       "      <td>1543402800</td>\n",
       "      <td>42.18</td>\n",
       "      <td>1543420800</td>\n",
       "      <td>29.11</td>\n",
       "      <td>1543392000</td>\n",
       "      <td>35.75</td>\n",
       "      <td>1543420800</td>\n",
       "    </tr>\n",
       "  </tbody>\n",
       "</table>\n",
       "</div>"
      ],
      "text/plain": [
       "                                     id     timestamp  hour  day  month  \\\n",
       "0  424553bb-7174-41ea-aeb4-fe06d4f4b9d7  1.544953e+09     9   16     12   \n",
       "1  4bd23055-6827-41c6-b23b-3c491f24e74d  1.543284e+09     2   27     11   \n",
       "2  981a3613-77af-4620-a42a-0c0866077d1e  1.543367e+09     1   28     11   \n",
       "3  c2d88af2-d278-4bfd-a8d0-29ca77cc5512  1.543554e+09     4   30     11   \n",
       "4  e0126e1f-8ca9-4f2e-82b3-50505a09db9a  1.543463e+09     3   29     11   \n",
       "\n",
       "              datetime          timezone            source    destination  \\\n",
       "0  2018-12-16 09:30:07  America/New_York  Haymarket Square  North Station   \n",
       "1  2018-11-27 02:00:23  America/New_York  Haymarket Square  North Station   \n",
       "2  2018-11-28 01:00:22  America/New_York  Haymarket Square  North Station   \n",
       "3  2018-11-30 04:53:02  America/New_York  Haymarket Square  North Station   \n",
       "4  2018-11-29 03:49:20  America/New_York  Haymarket Square  North Station   \n",
       "\n",
       "  cab_type    product_id          name  price  distance  surge_multiplier  \\\n",
       "0     Lyft     lyft_line        Shared    5.0      0.44               1.0   \n",
       "1     Lyft  lyft_premier           Lux   11.0      0.44               1.0   \n",
       "2     Lyft          lyft          Lyft    7.0      0.44               1.0   \n",
       "3     Lyft   lyft_luxsuv  Lux Black XL   26.0      0.44               1.0   \n",
       "4     Lyft     lyft_plus       Lyft XL    9.0      0.44               1.0   \n",
       "\n",
       "   latitude  longitude  temperature  apparentTemperature    short_summary  \\\n",
       "0   42.2148    -71.033        42.34                37.12   Mostly Cloudy    \n",
       "1   42.2148    -71.033        43.58                37.35            Rain    \n",
       "2   42.2148    -71.033        38.33                32.93           Clear    \n",
       "3   42.2148    -71.033        34.38                29.63           Clear    \n",
       "4   42.2148    -71.033        37.44                30.88   Partly Cloudy    \n",
       "\n",
       "                                        long_summary  precipIntensity  \\\n",
       "0                          Rain throughout the day.            0.0000   \n",
       "1   Rain until morning, starting again in the eve...           0.1299   \n",
       "2                        Light rain in the morning.            0.0000   \n",
       "3                 Partly cloudy throughout the day.            0.0000   \n",
       "4                 Mostly cloudy throughout the day.            0.0000   \n",
       "\n",
       "   precipProbability  humidity  windSpeed  windGust  windGustTime  visibility  \\\n",
       "0                0.0      0.68       8.66      9.17    1545015600      10.000   \n",
       "1                1.0      0.94      11.98     11.98    1543291200       4.786   \n",
       "2                0.0      0.75       7.33      7.33    1543334400      10.000   \n",
       "3                0.0      0.73       5.28      5.28    1543514400      10.000   \n",
       "4                0.0      0.70       9.14      9.14    1543446000      10.000   \n",
       "\n",
       "   temperatureHigh  temperatureHighTime  temperatureLow  temperatureLowTime  \\\n",
       "0            43.68           1544968800           34.19          1545048000   \n",
       "1            47.30           1543251600           42.10          1543298400   \n",
       "2            47.55           1543320000           33.10          1543402800   \n",
       "3            45.03           1543510800           28.90          1543579200   \n",
       "4            42.18           1543420800           36.71          1543478400   \n",
       "\n",
       "   apparentTemperatureHigh  apparentTemperatureHighTime  \\\n",
       "0                    37.95                   1544968800   \n",
       "1                    43.92                   1543251600   \n",
       "2                    44.12                   1543320000   \n",
       "3                    38.53                   1543510800   \n",
       "4                    35.75                   1543420800   \n",
       "\n",
       "   apparentTemperatureLow  apparentTemperatureLowTime                   icon  \\\n",
       "0                   27.39                  1545044400   partly-cloudy-night    \n",
       "1                   36.20                  1543291200                  rain    \n",
       "2                   29.11                  1543392000           clear-night    \n",
       "3                   26.20                  1543575600           clear-night    \n",
       "4                   30.29                  1543460400   partly-cloudy-night    \n",
       "\n",
       "   dewPoint  pressure  windBearing  cloudCover  uvIndex  visibility.1  ozone  \\\n",
       "0     32.70   1021.98           57        0.72        0        10.000  303.8   \n",
       "1     41.83   1003.97           90        1.00        0         4.786  291.1   \n",
       "2     31.10    992.28          240        0.03        0        10.000  315.7   \n",
       "3     26.64   1013.73          310        0.00        0        10.000  291.1   \n",
       "4     28.61    998.36          303        0.44        0        10.000  347.7   \n",
       "\n",
       "   sunriseTime  sunsetTime  moonPhase  precipIntensityMax  uvIndexTime  \\\n",
       "0   1544962084  1544994864       0.30              0.1276   1544979600   \n",
       "1   1543232969  1543266992       0.64              0.1300   1543251600   \n",
       "2   1543319437  1543353364       0.68              0.1064   1543338000   \n",
       "3   1543492370  1543526114       0.75              0.0000   1543507200   \n",
       "4   1543405904  1543439738       0.72              0.0001   1543420800   \n",
       "\n",
       "   temperatureMin  temperatureMinTime  temperatureMax  temperatureMaxTime  \\\n",
       "0           39.89          1545012000           43.68          1544968800   \n",
       "1           40.49          1543233600           47.30          1543251600   \n",
       "2           35.36          1543377600           47.55          1543320000   \n",
       "3           34.67          1543550400           45.03          1543510800   \n",
       "4           33.10          1543402800           42.18          1543420800   \n",
       "\n",
       "   apparentTemperatureMin  apparentTemperatureMinTime  apparentTemperatureMax  \\\n",
       "0                   33.73                  1545012000                   38.07   \n",
       "1                   36.20                  1543291200                   43.92   \n",
       "2                   31.04                  1543377600                   44.12   \n",
       "3                   30.30                  1543550400                   38.53   \n",
       "4                   29.11                  1543392000                   35.75   \n",
       "\n",
       "   apparentTemperatureMaxTime  \n",
       "0                  1544958000  \n",
       "1                  1543251600  \n",
       "2                  1543320000  \n",
       "3                  1543510800  \n",
       "4                  1543420800  "
      ]
     },
     "execution_count": 298,
     "metadata": {},
     "output_type": "execute_result"
    }
   ],
   "source": [
    "# Load the dataset\n",
    "df_ori = pd.read_csv('rideshare_kaggle.csv')\n",
    "pd.set_option('display.max_columns', None)\n",
    "df_ori.head()\n"
   ]
  },
  {
   "cell_type": "code",
   "execution_count": 299,
   "metadata": {},
   "outputs": [
    {
     "data": {
      "text/plain": [
       "0"
      ]
     },
     "execution_count": 299,
     "metadata": {},
     "output_type": "execute_result"
    }
   ],
   "source": [
    "# Check if any duplicated data\n",
    "df_ori[['id']].duplicated().sum()"
   ]
  },
  {
   "attachments": {},
   "cell_type": "markdown",
   "metadata": {},
   "source": [
    "`INSIGHT`:\n",
    "\n",
    "There is no duplicated data. And since all id represent different order, hence we will drop it"
   ]
  },
  {
   "cell_type": "code",
   "execution_count": 300,
   "metadata": {},
   "outputs": [
    {
     "data": {
      "text/html": [
       "<div>\n",
       "<style scoped>\n",
       "    .dataframe tbody tr th:only-of-type {\n",
       "        vertical-align: middle;\n",
       "    }\n",
       "\n",
       "    .dataframe tbody tr th {\n",
       "        vertical-align: top;\n",
       "    }\n",
       "\n",
       "    .dataframe thead th {\n",
       "        text-align: right;\n",
       "    }\n",
       "</style>\n",
       "<table border=\"1\" class=\"dataframe\">\n",
       "  <thead>\n",
       "    <tr style=\"text-align: right;\">\n",
       "      <th></th>\n",
       "      <th>datetime</th>\n",
       "      <th>hour</th>\n",
       "      <th>day</th>\n",
       "      <th>month</th>\n",
       "      <th>short_summary</th>\n",
       "      <th>cab_type</th>\n",
       "      <th>name</th>\n",
       "      <th>distance</th>\n",
       "      <th>surge_multiplier</th>\n",
       "      <th>price</th>\n",
       "    </tr>\n",
       "  </thead>\n",
       "  <tbody>\n",
       "    <tr>\n",
       "      <th>0</th>\n",
       "      <td>2018-12-16 09:30:07</td>\n",
       "      <td>9</td>\n",
       "      <td>16</td>\n",
       "      <td>12</td>\n",
       "      <td>Mostly Cloudy</td>\n",
       "      <td>Lyft</td>\n",
       "      <td>Shared</td>\n",
       "      <td>0.44</td>\n",
       "      <td>1.0</td>\n",
       "      <td>5.0</td>\n",
       "    </tr>\n",
       "    <tr>\n",
       "      <th>1</th>\n",
       "      <td>2018-11-27 02:00:23</td>\n",
       "      <td>2</td>\n",
       "      <td>27</td>\n",
       "      <td>11</td>\n",
       "      <td>Rain</td>\n",
       "      <td>Lyft</td>\n",
       "      <td>Lux</td>\n",
       "      <td>0.44</td>\n",
       "      <td>1.0</td>\n",
       "      <td>11.0</td>\n",
       "    </tr>\n",
       "    <tr>\n",
       "      <th>2</th>\n",
       "      <td>2018-11-28 01:00:22</td>\n",
       "      <td>1</td>\n",
       "      <td>28</td>\n",
       "      <td>11</td>\n",
       "      <td>Clear</td>\n",
       "      <td>Lyft</td>\n",
       "      <td>Lyft</td>\n",
       "      <td>0.44</td>\n",
       "      <td>1.0</td>\n",
       "      <td>7.0</td>\n",
       "    </tr>\n",
       "    <tr>\n",
       "      <th>3</th>\n",
       "      <td>2018-11-30 04:53:02</td>\n",
       "      <td>4</td>\n",
       "      <td>30</td>\n",
       "      <td>11</td>\n",
       "      <td>Clear</td>\n",
       "      <td>Lyft</td>\n",
       "      <td>Lux Black XL</td>\n",
       "      <td>0.44</td>\n",
       "      <td>1.0</td>\n",
       "      <td>26.0</td>\n",
       "    </tr>\n",
       "    <tr>\n",
       "      <th>4</th>\n",
       "      <td>2018-11-29 03:49:20</td>\n",
       "      <td>3</td>\n",
       "      <td>29</td>\n",
       "      <td>11</td>\n",
       "      <td>Partly Cloudy</td>\n",
       "      <td>Lyft</td>\n",
       "      <td>Lyft XL</td>\n",
       "      <td>0.44</td>\n",
       "      <td>1.0</td>\n",
       "      <td>9.0</td>\n",
       "    </tr>\n",
       "  </tbody>\n",
       "</table>\n",
       "</div>"
      ],
      "text/plain": [
       "              datetime  hour  day  month    short_summary cab_type  \\\n",
       "0  2018-12-16 09:30:07     9   16     12   Mostly Cloudy      Lyft   \n",
       "1  2018-11-27 02:00:23     2   27     11            Rain      Lyft   \n",
       "2  2018-11-28 01:00:22     1   28     11           Clear      Lyft   \n",
       "3  2018-11-30 04:53:02     4   30     11           Clear      Lyft   \n",
       "4  2018-11-29 03:49:20     3   29     11   Partly Cloudy      Lyft   \n",
       "\n",
       "           name  distance  surge_multiplier  price  \n",
       "0        Shared      0.44               1.0    5.0  \n",
       "1           Lux      0.44               1.0   11.0  \n",
       "2          Lyft      0.44               1.0    7.0  \n",
       "3  Lux Black XL      0.44               1.0   26.0  \n",
       "4       Lyft XL      0.44               1.0    9.0  "
      ]
     },
     "execution_count": 300,
     "metadata": {},
     "output_type": "execute_result"
    }
   ],
   "source": [
    "# Fetch needed column only\n",
    "df_ori = df_ori[['datetime', 'hour', 'day', 'month', 'short_summary', 'cab_type', 'name', 'distance', 'surge_multiplier', 'price']]\n",
    "df = df_ori.copy()\n",
    "df.head()"
   ]
  },
  {
   "cell_type": "code",
   "execution_count": 301,
   "metadata": {},
   "outputs": [
    {
     "data": {
      "text/html": [
       "<div>\n",
       "<style scoped>\n",
       "    .dataframe tbody tr th:only-of-type {\n",
       "        vertical-align: middle;\n",
       "    }\n",
       "\n",
       "    .dataframe tbody tr th {\n",
       "        vertical-align: top;\n",
       "    }\n",
       "\n",
       "    .dataframe thead th {\n",
       "        text-align: right;\n",
       "    }\n",
       "</style>\n",
       "<table border=\"1\" class=\"dataframe\">\n",
       "  <thead>\n",
       "    <tr style=\"text-align: right;\">\n",
       "      <th></th>\n",
       "      <th>datetime</th>\n",
       "      <th>hour</th>\n",
       "      <th>day</th>\n",
       "      <th>month</th>\n",
       "      <th>short_summary</th>\n",
       "      <th>cab_type</th>\n",
       "      <th>name</th>\n",
       "      <th>distance</th>\n",
       "      <th>surge_multiplier</th>\n",
       "      <th>price</th>\n",
       "      <th>date</th>\n",
       "    </tr>\n",
       "  </thead>\n",
       "  <tbody>\n",
       "    <tr>\n",
       "      <th>0</th>\n",
       "      <td>2018-12-16 09:30:07</td>\n",
       "      <td>9</td>\n",
       "      <td>16</td>\n",
       "      <td>12</td>\n",
       "      <td>Mostly Cloudy</td>\n",
       "      <td>Lyft</td>\n",
       "      <td>Shared</td>\n",
       "      <td>0.44</td>\n",
       "      <td>1.0</td>\n",
       "      <td>5.0</td>\n",
       "      <td>2018-12-16</td>\n",
       "    </tr>\n",
       "    <tr>\n",
       "      <th>1</th>\n",
       "      <td>2018-11-27 02:00:23</td>\n",
       "      <td>2</td>\n",
       "      <td>27</td>\n",
       "      <td>11</td>\n",
       "      <td>Rain</td>\n",
       "      <td>Lyft</td>\n",
       "      <td>Lux</td>\n",
       "      <td>0.44</td>\n",
       "      <td>1.0</td>\n",
       "      <td>11.0</td>\n",
       "      <td>2018-11-27</td>\n",
       "    </tr>\n",
       "    <tr>\n",
       "      <th>2</th>\n",
       "      <td>2018-11-28 01:00:22</td>\n",
       "      <td>1</td>\n",
       "      <td>28</td>\n",
       "      <td>11</td>\n",
       "      <td>Clear</td>\n",
       "      <td>Lyft</td>\n",
       "      <td>Lyft</td>\n",
       "      <td>0.44</td>\n",
       "      <td>1.0</td>\n",
       "      <td>7.0</td>\n",
       "      <td>2018-11-28</td>\n",
       "    </tr>\n",
       "    <tr>\n",
       "      <th>3</th>\n",
       "      <td>2018-11-30 04:53:02</td>\n",
       "      <td>4</td>\n",
       "      <td>30</td>\n",
       "      <td>11</td>\n",
       "      <td>Clear</td>\n",
       "      <td>Lyft</td>\n",
       "      <td>Lux Black XL</td>\n",
       "      <td>0.44</td>\n",
       "      <td>1.0</td>\n",
       "      <td>26.0</td>\n",
       "      <td>2018-11-30</td>\n",
       "    </tr>\n",
       "    <tr>\n",
       "      <th>4</th>\n",
       "      <td>2018-11-29 03:49:20</td>\n",
       "      <td>3</td>\n",
       "      <td>29</td>\n",
       "      <td>11</td>\n",
       "      <td>Partly Cloudy</td>\n",
       "      <td>Lyft</td>\n",
       "      <td>Lyft XL</td>\n",
       "      <td>0.44</td>\n",
       "      <td>1.0</td>\n",
       "      <td>9.0</td>\n",
       "      <td>2018-11-29</td>\n",
       "    </tr>\n",
       "  </tbody>\n",
       "</table>\n",
       "</div>"
      ],
      "text/plain": [
       "              datetime  hour  day  month    short_summary cab_type  \\\n",
       "0  2018-12-16 09:30:07     9   16     12   Mostly Cloudy      Lyft   \n",
       "1  2018-11-27 02:00:23     2   27     11            Rain      Lyft   \n",
       "2  2018-11-28 01:00:22     1   28     11           Clear      Lyft   \n",
       "3  2018-11-30 04:53:02     4   30     11           Clear      Lyft   \n",
       "4  2018-11-29 03:49:20     3   29     11   Partly Cloudy      Lyft   \n",
       "\n",
       "           name  distance  surge_multiplier  price        date  \n",
       "0        Shared      0.44               1.0    5.0  2018-12-16  \n",
       "1           Lux      0.44               1.0   11.0  2018-11-27  \n",
       "2          Lyft      0.44               1.0    7.0  2018-11-28  \n",
       "3  Lux Black XL      0.44               1.0   26.0  2018-11-30  \n",
       "4       Lyft XL      0.44               1.0    9.0  2018-11-29  "
      ]
     },
     "execution_count": 301,
     "metadata": {},
     "output_type": "execute_result"
    }
   ],
   "source": [
    "# Parse date from the datetime column\n",
    "df['date'] = pd.to_datetime(df['datetime']).dt.date\n",
    "df.head()"
   ]
  },
  {
   "cell_type": "code",
   "execution_count": 302,
   "metadata": {},
   "outputs": [],
   "source": [
    "# For a better understanding I rename short sumamry to weather \n",
    "df = df.rename(columns={'short_summary' : 'weather'})\n",
    "df['weather'] = df['weather'].str.strip()\n",
    "df['surge_multiplier'] = df['surge_multiplier'].replace(\" \", \"\")"
   ]
  },
  {
   "cell_type": "code",
   "execution_count": 303,
   "metadata": {},
   "outputs": [
    {
     "data": {
      "text/html": [
       "<div>\n",
       "<style scoped>\n",
       "    .dataframe tbody tr th:only-of-type {\n",
       "        vertical-align: middle;\n",
       "    }\n",
       "\n",
       "    .dataframe tbody tr th {\n",
       "        vertical-align: top;\n",
       "    }\n",
       "\n",
       "    .dataframe thead th {\n",
       "        text-align: right;\n",
       "    }\n",
       "</style>\n",
       "<table border=\"1\" class=\"dataframe\">\n",
       "  <thead>\n",
       "    <tr style=\"text-align: right;\">\n",
       "      <th></th>\n",
       "      <th>hour</th>\n",
       "      <th>day</th>\n",
       "      <th>month</th>\n",
       "      <th>weather</th>\n",
       "      <th>cab_type</th>\n",
       "      <th>name</th>\n",
       "      <th>distance</th>\n",
       "      <th>surge_multiplier</th>\n",
       "      <th>price</th>\n",
       "      <th>date</th>\n",
       "    </tr>\n",
       "  </thead>\n",
       "  <tbody>\n",
       "    <tr>\n",
       "      <th>0</th>\n",
       "      <td>9</td>\n",
       "      <td>16</td>\n",
       "      <td>12</td>\n",
       "      <td>Mostly Cloudy</td>\n",
       "      <td>Lyft</td>\n",
       "      <td>Shared</td>\n",
       "      <td>0.44</td>\n",
       "      <td>1.0</td>\n",
       "      <td>5.0</td>\n",
       "      <td>2018-12-16</td>\n",
       "    </tr>\n",
       "    <tr>\n",
       "      <th>1</th>\n",
       "      <td>2</td>\n",
       "      <td>27</td>\n",
       "      <td>11</td>\n",
       "      <td>Rain</td>\n",
       "      <td>Lyft</td>\n",
       "      <td>Lux</td>\n",
       "      <td>0.44</td>\n",
       "      <td>1.0</td>\n",
       "      <td>11.0</td>\n",
       "      <td>2018-11-27</td>\n",
       "    </tr>\n",
       "    <tr>\n",
       "      <th>2</th>\n",
       "      <td>1</td>\n",
       "      <td>28</td>\n",
       "      <td>11</td>\n",
       "      <td>Clear</td>\n",
       "      <td>Lyft</td>\n",
       "      <td>Lyft</td>\n",
       "      <td>0.44</td>\n",
       "      <td>1.0</td>\n",
       "      <td>7.0</td>\n",
       "      <td>2018-11-28</td>\n",
       "    </tr>\n",
       "    <tr>\n",
       "      <th>3</th>\n",
       "      <td>4</td>\n",
       "      <td>30</td>\n",
       "      <td>11</td>\n",
       "      <td>Clear</td>\n",
       "      <td>Lyft</td>\n",
       "      <td>Lux Black XL</td>\n",
       "      <td>0.44</td>\n",
       "      <td>1.0</td>\n",
       "      <td>26.0</td>\n",
       "      <td>2018-11-30</td>\n",
       "    </tr>\n",
       "    <tr>\n",
       "      <th>4</th>\n",
       "      <td>3</td>\n",
       "      <td>29</td>\n",
       "      <td>11</td>\n",
       "      <td>Partly Cloudy</td>\n",
       "      <td>Lyft</td>\n",
       "      <td>Lyft XL</td>\n",
       "      <td>0.44</td>\n",
       "      <td>1.0</td>\n",
       "      <td>9.0</td>\n",
       "      <td>2018-11-29</td>\n",
       "    </tr>\n",
       "  </tbody>\n",
       "</table>\n",
       "</div>"
      ],
      "text/plain": [
       "   hour  day  month        weather cab_type          name  distance  \\\n",
       "0     9   16     12  Mostly Cloudy     Lyft        Shared      0.44   \n",
       "1     2   27     11           Rain     Lyft           Lux      0.44   \n",
       "2     1   28     11          Clear     Lyft          Lyft      0.44   \n",
       "3     4   30     11          Clear     Lyft  Lux Black XL      0.44   \n",
       "4     3   29     11  Partly Cloudy     Lyft       Lyft XL      0.44   \n",
       "\n",
       "   surge_multiplier  price        date  \n",
       "0               1.0    5.0  2018-12-16  \n",
       "1               1.0   11.0  2018-11-27  \n",
       "2               1.0    7.0  2018-11-28  \n",
       "3               1.0   26.0  2018-11-30  \n",
       "4               1.0    9.0  2018-11-29  "
      ]
     },
     "execution_count": 303,
     "metadata": {},
     "output_type": "execute_result"
    }
   ],
   "source": [
    "# Check the new dataset\n",
    "df = df.drop(['datetime'], axis=1)\n",
    "df.head()"
   ]
  },
  {
   "attachments": {},
   "cell_type": "markdown",
   "metadata": {},
   "source": [
    "Name | Definition\n",
    "---|---\n",
    "`hour` | Hour of the day, from it's using 24 hours format\n",
    "`day` | Day of the month, from 1-31\n",
    "`month` | Month of the year. We only use year of 2018\n",
    "`weather` | Summary of weather at the time of order\n",
    "`cab_type` | Type of taxi company, Uber or Lyft\n",
    "`name` | Service type of each taxi company\n",
    "`distance` | Distance of the ride in miles\n",
    "`price` | Price of the order in USD\n",
    "`date` | Date of the order\n",
    "`surge_multiplier` | Multiplier used by taxi services when demand is higher than driver supply, from 1-3"
   ]
  },
  {
   "attachments": {},
   "cell_type": "markdown",
   "metadata": {},
   "source": [
    "`INSIGHT`:\n",
    "\n",
    "The reason why I choose these columns are because from the `Uber official website` it explains how the company decide the fare for the taxi (https://www.uber.com/global/en/price-estimate/). Same with `Lyft` (https://help.lyft.com/hc/e/all/articles/115013080308-How-to-estimate-the-cost-of-a-Lyft-ride). In summary there are few of factors that determine the price of the trip, they are:\n",
    " * Base rate: both `Uber` and `Lyft` has its own base rate, which means even you take the shortest route possible you'll be charged by this minimum base rate. Each cities in the world might have different conditions in determining the base rate.\n",
    " * Busy times and area: different areas might be different in terms of density either they pick-up point or the drop-off point. Unfortunately this dataset don't  provide this particular data.\n",
    " * Ride type: as each of the taxi services has its own package, the exact same distance might generate different price due to different kind of service tha passanger took. The more premium of the ride type you take, the more expensive the base rate would be.\n",
    " * Demand: assuming taking taxi is one of many ways of people commuting. Hence for example, when the weather is raining people the demand of taxi order might get higher."
   ]
  },
  {
   "attachments": {},
   "cell_type": "markdown",
   "metadata": {},
   "source": [
    "# 4. Exploratory Data Analysis (EDA)\n",
    "\n",
    "There are some points I would like to explore on this dataset as follows:\n",
    " 1. The portion of Lyft and Uber within the dataset \n",
    " 2. The distribuion of recorded weather within the dataset.\n",
    " 3. The distribution of hour, day, and month in the dataset.\n",
    " 4. The distribution of distance and price in each cab service.\n",
    " 5. Inferential statistic."
   ]
  },
  {
   "attachments": {},
   "cell_type": "markdown",
   "metadata": {},
   "source": [
    "### The distribution of hour, day, and month in the dataset"
   ]
  },
  {
   "cell_type": "code",
   "execution_count": 304,
   "metadata": {},
   "outputs": [
    {
     "data": {
      "text/plain": [
       "Uber    385663\n",
       "Lyft    307408\n",
       "Name: cab_type, dtype: int64"
      ]
     },
     "execution_count": 304,
     "metadata": {},
     "output_type": "execute_result"
    }
   ],
   "source": [
    "df['cab_type'].value_counts()"
   ]
  },
  {
   "cell_type": "code",
   "execution_count": 305,
   "metadata": {},
   "outputs": [
    {
     "data": {
      "image/png": "[encoded data removed]",
      "text/plain": [
       "<Figure size 640x480 with 1 Axes>"
      ]
     },
     "metadata": {},
     "output_type": "display_data"
    }
   ],
   "source": [
    "# Get the counts of each cab_type\n",
    "cab_type_counts = df['cab_type'].value_counts()\n",
    "\n",
    "# Create a pie chart\n",
    "plt.pie(cab_type_counts, labels=cab_type_counts.index, autopct='%1.1f%%')\n",
    "plt.title('Portion of Cab Type')\n",
    "plt.show()"
   ]
  },
  {
   "attachments": {},
   "cell_type": "markdown",
   "metadata": {},
   "source": [
    "`INSIGHT`:\n",
    "\n",
    "In Boston, MA, `Uber` is more popular than Lyft."
   ]
  },
  {
   "cell_type": "code",
   "execution_count": 306,
   "metadata": {},
   "outputs": [
    {
     "data": {
      "image/png": "[encoded data removed]",
      "text/plain": [
       "<Figure size 2500x500 with 1 Axes>"
      ]
     },
     "metadata": {},
     "output_type": "display_data"
    }
   ],
   "source": [
    "# See each of data in the feature weather in the dataset\n",
    "plt.figure(figsize=(25,5))\n",
    "sns.countplot(x = 'weather', data = df, palette = 'mako')\n",
    "plt.xlabel('Weather')\n",
    "plt.ylabel('Count', fontsize=10)\n",
    "plt.title('Weather Distribution', fontsize=10)\n",
    "plt.show()"
   ]
  },
  {
   "attachments": {},
   "cell_type": "markdown",
   "metadata": {},
   "source": [
    "`INSIGHT`:\n",
    "\n",
    "For the weather that have been recorded in the dataset there are `9 different type of weather`. As the intensity of the weathers are dofferent from one to another, the prediction will be only limited to these data and these data only. \n",
    "\n",
    " * Mostly cloudy: When the 6/8th to 7/8ths of the sky is covered by with opaque (not transparent) clouds.\n",
    " * Rain: Heavy rain.\n",
    " * Clear: When the 1/8th to 2/8ths of the sky is covered by with opaque (not transparent) clouds.\n",
    " * Partly Cloudy: Between 3/8 and 5/8 of the sky is covered by clouds.\n",
    " * Overcast: An official sky cover classification for aviation weather observations, when the sky is completely covered by an obscuring phenomenon. This is applied only when obscuring phenomenon aloft are present--that is, not when obscuring phenomenon are surface-based, such as fog.\n",
    " * Light Rain: light rain\n",
    " * Foggy: Condensed water vapor in cloudlike masses lying close to the ground and limiting visibility.\n",
    " * Possible Drizzle: possibility of small rain\n",
    " * Drizzle: small rain\n",
    "\n",
    " Source: https://www.weather.gov/\n"
   ]
  },
  {
   "cell_type": "code",
   "execution_count": 307,
   "metadata": {},
   "outputs": [
    {
     "data": {
      "image/png": "[encoded data removed]",
      "text/plain": [
       "<Figure size 640x480 with 1 Axes>"
      ]
     },
     "metadata": {},
     "output_type": "display_data"
    }
   ],
   "source": [
    "# See the distribution of hour toward the dataset\n",
    "sns.countplot(x = 'hour', data = df, palette = 'mako')\n",
    "plt.xlabel('Hour')\n",
    "plt.ylabel('Count', fontsize=10)\n",
    "plt.title('Hour Distribution', fontsize=10)\n",
    "plt.show()"
   ]
  },
  {
   "attachments": {},
   "cell_type": "markdown",
   "metadata": {},
   "source": [
    "`INSIGHT`:\n",
    "\n",
    "From the distribution of the hour we can see the order is almost evenly distributed `24 hours`"
   ]
  },
  {
   "cell_type": "code",
   "execution_count": 308,
   "metadata": {},
   "outputs": [
    {
     "data": {
      "image/png": "[encoded data removed]",
      "text/plain": [
       "<Figure size 640x480 with 1 Axes>"
      ]
     },
     "metadata": {},
     "output_type": "display_data"
    }
   ],
   "source": [
    "# See the distribution of day towards the dataset\n",
    "sns.countplot(x = 'day', data = df, palette = 'mako')\n",
    "plt.xlabel('Day')\n",
    "plt.ylabel('Count', fontsize=10)\n",
    "plt.title('Day Distribution', fontsize=10)\n",
    "plt.show()"
   ]
  },
  {
   "attachments": {},
   "cell_type": "markdown",
   "metadata": {},
   "source": [
    "`INSIGHT`:\n",
    "\n",
    "The order majorly took place in the end of the month"
   ]
  },
  {
   "cell_type": "code",
   "execution_count": 309,
   "metadata": {},
   "outputs": [
    {
     "data": {
      "image/png": "[encoded data removed]",
      "text/plain": [
       "<Figure size 640x480 with 1 Axes>"
      ]
     },
     "metadata": {},
     "output_type": "display_data"
    }
   ],
   "source": [
    "# See the distribution of month towards dataset\n",
    "sns.countplot(x = 'month', data = df, palette = 'mako')\n",
    "plt.xlabel('Month')\n",
    "plt.ylabel('Count', fontsize=10)\n",
    "plt.title('Month Distribution', fontsize=10)\n",
    "plt.show()"
   ]
  },
  {
   "attachments": {},
   "cell_type": "markdown",
   "metadata": {},
   "source": [
    "`INSIGHT`:\n",
    "\n",
    "From the data we know that the availability is only in `November` and `December`"
   ]
  },
  {
   "attachments": {},
   "cell_type": "markdown",
   "metadata": {},
   "source": [
    "### The distribution of distance and price in each cab service"
   ]
  },
  {
   "cell_type": "code",
   "execution_count": 310,
   "metadata": {},
   "outputs": [
    {
     "data": {
      "image/png": "[encoded data removed]",
      "text/plain": [
       "<Figure size 1500x500 with 2 Axes>"
      ]
     },
     "metadata": {},
     "output_type": "display_data"
    }
   ],
   "source": [
    "# Create df for each cab_type\n",
    "# Lyft\n",
    "df_lyft = df[(df['cab_type'] == 'Lyft')]\n",
    "\n",
    "# Uber\n",
    "df_uber = df[df['cab_type'] == 'Uber']\n",
    "\n",
    "\n",
    "plt.figure(figsize=(15,5))\n",
    "plt.subplot(1,2,1)\n",
    "sns.scatterplot(x='distance', y='price', data=df_lyft)\n",
    "plt.title('Lyft')\n",
    "\n",
    "plt.subplot(1,2,2)\n",
    "sns.scatterplot(x='distance', y='price', data=df_uber)\n",
    "plt.title('Uber')\n",
    "plt.show()"
   ]
  },
  {
   "attachments": {},
   "cell_type": "markdown",
   "metadata": {},
   "source": [
    "`INSIGHT`:\n",
    "\n",
    "At first we can see that the data `is not linear`. Because normally, `the higher the distance of an order, the higher price the customer should pay`. But since there are other factors such as the `type of service` the customer take in each service and the `weather` when the the order was set `might` determine to the high and down of the price."
   ]
  },
  {
   "cell_type": "code",
   "execution_count": 311,
   "metadata": {},
   "outputs": [
    {
     "data": {
      "image/png": "[encoded data removed]",
      "text/plain": [
       "<Figure size 1500x500 with 2 Axes>"
      ]
     },
     "metadata": {},
     "output_type": "display_data"
    }
   ],
   "source": [
    "# Create df for each cab_type\n",
    "# Lyft\n",
    "df_lyft = df[(df['cab_type'] == 'Lyft') &\n",
    "            (df['name'] == 'Lux') &\n",
    "            (df['weather'] == 'Clear') &\n",
    "            (df['hour'] < 12)]\n",
    "\n",
    "# Uber\n",
    "df_uber = df[(df['cab_type'] == 'Uber') &\n",
    "            (df['name'] == 'Black') &\n",
    "            (df['weather'] == 'Clear') &\n",
    "            (df['hour'] < 12)]\n",
    "\n",
    "\n",
    "plt.figure(figsize=(15,5))\n",
    "plt.subplot(1,2,1)\n",
    "sns.regplot(x='distance', y='price', data=df_lyft, line_kws={\"color\": \"red\"})\n",
    "plt.title('Lyft')\n",
    "\n",
    "plt.subplot(1,2,2)\n",
    "sns.regplot(x='distance', y='price', data=df_uber, line_kws={\"color\": \"red\"})\n",
    "plt.title('Uber')\n",
    "plt.show()"
   ]
  },
  {
   "attachments": {},
   "cell_type": "markdown",
   "metadata": {},
   "source": [
    "`INSIGHT`:\n",
    "\n",
    "Here I'm trying to see the distribution between `price` and `distance` between `Uber` and `Lyft` by filtering the exact same condition to test if linear regression line take place. The filters are:\n",
    "\n",
    " * One of the service type of the taxi service. Here for `Uber` I took `Black`, and `Lux` for `Lyft`\n",
    " * I take all the orders happened in when the weather is `clear`\n",
    " * The orders happened in the morning which I filtered that the `hour` is before `12` as the hour is in the 24 hours"
   ]
  },
  {
   "attachments": {},
   "cell_type": "markdown",
   "metadata": {},
   "source": [
    "### Inferential statistic"
   ]
  },
  {
   "cell_type": "code",
   "execution_count": 312,
   "metadata": {},
   "outputs": [
    {
     "data": {
      "text/html": [
       "<div>\n",
       "<style scoped>\n",
       "    .dataframe tbody tr th:only-of-type {\n",
       "        vertical-align: middle;\n",
       "    }\n",
       "\n",
       "    .dataframe tbody tr th {\n",
       "        vertical-align: top;\n",
       "    }\n",
       "\n",
       "    .dataframe thead th {\n",
       "        text-align: right;\n",
       "    }\n",
       "</style>\n",
       "<table border=\"1\" class=\"dataframe\">\n",
       "  <thead>\n",
       "    <tr style=\"text-align: right;\">\n",
       "      <th></th>\n",
       "      <th>hour</th>\n",
       "      <th>day</th>\n",
       "      <th>month</th>\n",
       "      <th>distance</th>\n",
       "      <th>surge_multiplier</th>\n",
       "      <th>price</th>\n",
       "    </tr>\n",
       "  </thead>\n",
       "  <tbody>\n",
       "    <tr>\n",
       "      <th>count</th>\n",
       "      <td>693071.000000</td>\n",
       "      <td>693071.000000</td>\n",
       "      <td>693071.000000</td>\n",
       "      <td>693071.000000</td>\n",
       "      <td>693071.000000</td>\n",
       "      <td>637976.000000</td>\n",
       "    </tr>\n",
       "    <tr>\n",
       "      <th>mean</th>\n",
       "      <td>11.619137</td>\n",
       "      <td>17.794365</td>\n",
       "      <td>11.586684</td>\n",
       "      <td>2.189430</td>\n",
       "      <td>1.013870</td>\n",
       "      <td>16.545125</td>\n",
       "    </tr>\n",
       "    <tr>\n",
       "      <th>std</th>\n",
       "      <td>6.948114</td>\n",
       "      <td>9.982286</td>\n",
       "      <td>0.492429</td>\n",
       "      <td>1.138937</td>\n",
       "      <td>0.091641</td>\n",
       "      <td>9.324359</td>\n",
       "    </tr>\n",
       "    <tr>\n",
       "      <th>min</th>\n",
       "      <td>0.000000</td>\n",
       "      <td>1.000000</td>\n",
       "      <td>11.000000</td>\n",
       "      <td>0.020000</td>\n",
       "      <td>1.000000</td>\n",
       "      <td>2.500000</td>\n",
       "    </tr>\n",
       "    <tr>\n",
       "      <th>25%</th>\n",
       "      <td>6.000000</td>\n",
       "      <td>13.000000</td>\n",
       "      <td>11.000000</td>\n",
       "      <td>1.280000</td>\n",
       "      <td>1.000000</td>\n",
       "      <td>9.000000</td>\n",
       "    </tr>\n",
       "    <tr>\n",
       "      <th>50%</th>\n",
       "      <td>12.000000</td>\n",
       "      <td>17.000000</td>\n",
       "      <td>12.000000</td>\n",
       "      <td>2.160000</td>\n",
       "      <td>1.000000</td>\n",
       "      <td>13.500000</td>\n",
       "    </tr>\n",
       "    <tr>\n",
       "      <th>75%</th>\n",
       "      <td>18.000000</td>\n",
       "      <td>28.000000</td>\n",
       "      <td>12.000000</td>\n",
       "      <td>2.920000</td>\n",
       "      <td>1.000000</td>\n",
       "      <td>22.500000</td>\n",
       "    </tr>\n",
       "    <tr>\n",
       "      <th>max</th>\n",
       "      <td>23.000000</td>\n",
       "      <td>30.000000</td>\n",
       "      <td>12.000000</td>\n",
       "      <td>7.860000</td>\n",
       "      <td>3.000000</td>\n",
       "      <td>97.500000</td>\n",
       "    </tr>\n",
       "  </tbody>\n",
       "</table>\n",
       "</div>"
      ],
      "text/plain": [
       "                hour            day          month       distance  \\\n",
       "count  693071.000000  693071.000000  693071.000000  693071.000000   \n",
       "mean       11.619137      17.794365      11.586684       2.189430   \n",
       "std         6.948114       9.982286       0.492429       1.138937   \n",
       "min         0.000000       1.000000      11.000000       0.020000   \n",
       "25%         6.000000      13.000000      11.000000       1.280000   \n",
       "50%        12.000000      17.000000      12.000000       2.160000   \n",
       "75%        18.000000      28.000000      12.000000       2.920000   \n",
       "max        23.000000      30.000000      12.000000       7.860000   \n",
       "\n",
       "       surge_multiplier          price  \n",
       "count     693071.000000  637976.000000  \n",
       "mean           1.013870      16.545125  \n",
       "std            0.091641       9.324359  \n",
       "min            1.000000       2.500000  \n",
       "25%            1.000000       9.000000  \n",
       "50%            1.000000      13.500000  \n",
       "75%            1.000000      22.500000  \n",
       "max            3.000000      97.500000  "
      ]
     },
     "execution_count": 312,
     "metadata": {},
     "output_type": "execute_result"
    }
   ],
   "source": [
    "df.describe()"
   ]
  },
  {
   "cell_type": "code",
   "execution_count": 313,
   "metadata": {},
   "outputs": [
    {
     "data": {
      "text/html": [
       "<div>\n",
       "<style scoped>\n",
       "    .dataframe tbody tr th:only-of-type {\n",
       "        vertical-align: middle;\n",
       "    }\n",
       "\n",
       "    .dataframe tbody tr th {\n",
       "        vertical-align: top;\n",
       "    }\n",
       "\n",
       "    .dataframe thead th {\n",
       "        text-align: right;\n",
       "    }\n",
       "</style>\n",
       "<table border=\"1\" class=\"dataframe\">\n",
       "  <thead>\n",
       "    <tr style=\"text-align: right;\">\n",
       "      <th></th>\n",
       "      <th>weather</th>\n",
       "      <th>cab_type</th>\n",
       "      <th>name</th>\n",
       "      <th>date</th>\n",
       "    </tr>\n",
       "  </thead>\n",
       "  <tbody>\n",
       "    <tr>\n",
       "      <th>count</th>\n",
       "      <td>693071</td>\n",
       "      <td>693071</td>\n",
       "      <td>693071</td>\n",
       "      <td>693071</td>\n",
       "    </tr>\n",
       "    <tr>\n",
       "      <th>unique</th>\n",
       "      <td>9</td>\n",
       "      <td>2</td>\n",
       "      <td>13</td>\n",
       "      <td>17</td>\n",
       "    </tr>\n",
       "    <tr>\n",
       "      <th>top</th>\n",
       "      <td>Overcast</td>\n",
       "      <td>Uber</td>\n",
       "      <td>UberXL</td>\n",
       "      <td>2018-11-27</td>\n",
       "    </tr>\n",
       "    <tr>\n",
       "      <th>freq</th>\n",
       "      <td>218895</td>\n",
       "      <td>385663</td>\n",
       "      <td>55096</td>\n",
       "      <td>76121</td>\n",
       "    </tr>\n",
       "  </tbody>\n",
       "</table>\n",
       "</div>"
      ],
      "text/plain": [
       "         weather cab_type    name        date\n",
       "count     693071   693071  693071      693071\n",
       "unique         9        2      13          17\n",
       "top     Overcast     Uber  UberXL  2018-11-27\n",
       "freq      218895   385663   55096       76121"
      ]
     },
     "execution_count": 313,
     "metadata": {},
     "output_type": "execute_result"
    }
   ],
   "source": [
    "df.describe(include='O')"
   ]
  },
  {
   "attachments": {},
   "cell_type": "markdown",
   "metadata": {},
   "source": [
    "`INSIGHT`:\n",
    "\n",
    "On the average the distance for the order during november-december in Boston is `2.1 miles`. And the range of price found in the dataset is between `2.5 - 97.5 USD`. `UberXL` is the most popular uber services used by the user."
   ]
  },
  {
   "attachments": {},
   "cell_type": "markdown",
   "metadata": {},
   "source": [
    "# 5.Feature Engineering"
   ]
  },
  {
   "attachments": {},
   "cell_type": "markdown",
   "metadata": {},
   "source": [
    "### Handling Missing Values"
   ]
  },
  {
   "cell_type": "code",
   "execution_count": 314,
   "metadata": {},
   "outputs": [
    {
     "data": {
      "text/plain": [
       "hour                    0\n",
       "day                     0\n",
       "month                   0\n",
       "weather                 0\n",
       "cab_type                0\n",
       "name                    0\n",
       "distance                0\n",
       "surge_multiplier        0\n",
       "price               55095\n",
       "date                    0\n",
       "dtype: int64"
      ]
     },
     "execution_count": 314,
     "metadata": {},
     "output_type": "execute_result"
    }
   ],
   "source": [
    "df.isnull().sum()"
   ]
  },
  {
   "cell_type": "code",
   "execution_count": 315,
   "metadata": {},
   "outputs": [
    {
     "data": {
      "text/plain": [
       "hour                0.000000\n",
       "day                 0.000000\n",
       "month               0.000000\n",
       "weather             0.000000\n",
       "cab_type            0.000000\n",
       "name                0.000000\n",
       "distance            0.000000\n",
       "surge_multiplier    0.000000\n",
       "price               0.079494\n",
       "date                0.000000\n",
       "dtype: float64"
      ]
     },
     "execution_count": 315,
     "metadata": {},
     "output_type": "execute_result"
    }
   ],
   "source": [
    "# Check Percentage of missing values\n",
    "df.isnull().mean()"
   ]
  },
  {
   "attachments": {},
   "cell_type": "markdown",
   "metadata": {},
   "source": [
    "`INSIGHT`:\n",
    "\n",
    "There are `55,095` missing values found in the feature `price` which made up about `7.9%` from the total data"
   ]
  },
  {
   "cell_type": "code",
   "execution_count": 316,
   "metadata": {},
   "outputs": [
    {
     "data": {
      "text/html": [
       "<div>\n",
       "<style scoped>\n",
       "    .dataframe tbody tr th:only-of-type {\n",
       "        vertical-align: middle;\n",
       "    }\n",
       "\n",
       "    .dataframe tbody tr th {\n",
       "        vertical-align: top;\n",
       "    }\n",
       "\n",
       "    .dataframe thead th {\n",
       "        text-align: right;\n",
       "    }\n",
       "</style>\n",
       "<table border=\"1\" class=\"dataframe\">\n",
       "  <thead>\n",
       "    <tr style=\"text-align: right;\">\n",
       "      <th></th>\n",
       "      <th>hour</th>\n",
       "      <th>day</th>\n",
       "      <th>month</th>\n",
       "      <th>weather</th>\n",
       "      <th>cab_type</th>\n",
       "      <th>name</th>\n",
       "      <th>distance</th>\n",
       "      <th>surge_multiplier</th>\n",
       "      <th>price</th>\n",
       "      <th>date</th>\n",
       "    </tr>\n",
       "  </thead>\n",
       "  <tbody>\n",
       "    <tr>\n",
       "      <th>18</th>\n",
       "      <td>14</td>\n",
       "      <td>1</td>\n",
       "      <td>12</td>\n",
       "      <td>Partly Cloudy</td>\n",
       "      <td>Uber</td>\n",
       "      <td>Taxi</td>\n",
       "      <td>1.11</td>\n",
       "      <td>1.0</td>\n",
       "      <td>NaN</td>\n",
       "      <td>2018-12-01</td>\n",
       "    </tr>\n",
       "    <tr>\n",
       "      <th>31</th>\n",
       "      <td>23</td>\n",
       "      <td>2</td>\n",
       "      <td>12</td>\n",
       "      <td>Overcast</td>\n",
       "      <td>Uber</td>\n",
       "      <td>Taxi</td>\n",
       "      <td>2.48</td>\n",
       "      <td>1.0</td>\n",
       "      <td>NaN</td>\n",
       "      <td>2018-12-02</td>\n",
       "    </tr>\n",
       "    <tr>\n",
       "      <th>40</th>\n",
       "      <td>20</td>\n",
       "      <td>29</td>\n",
       "      <td>11</td>\n",
       "      <td>Partly Cloudy</td>\n",
       "      <td>Uber</td>\n",
       "      <td>Taxi</td>\n",
       "      <td>2.94</td>\n",
       "      <td>1.0</td>\n",
       "      <td>NaN</td>\n",
       "      <td>2018-11-29</td>\n",
       "    </tr>\n",
       "    <tr>\n",
       "      <th>60</th>\n",
       "      <td>20</td>\n",
       "      <td>13</td>\n",
       "      <td>12</td>\n",
       "      <td>Mostly Cloudy</td>\n",
       "      <td>Uber</td>\n",
       "      <td>Taxi</td>\n",
       "      <td>1.16</td>\n",
       "      <td>1.0</td>\n",
       "      <td>NaN</td>\n",
       "      <td>2018-12-13</td>\n",
       "    </tr>\n",
       "    <tr>\n",
       "      <th>69</th>\n",
       "      <td>13</td>\n",
       "      <td>30</td>\n",
       "      <td>11</td>\n",
       "      <td>Clear</td>\n",
       "      <td>Uber</td>\n",
       "      <td>Taxi</td>\n",
       "      <td>2.67</td>\n",
       "      <td>1.0</td>\n",
       "      <td>NaN</td>\n",
       "      <td>2018-11-30</td>\n",
       "    </tr>\n",
       "  </tbody>\n",
       "</table>\n",
       "</div>"
      ],
      "text/plain": [
       "    hour  day  month        weather cab_type  name  distance  \\\n",
       "18    14    1     12  Partly Cloudy     Uber  Taxi      1.11   \n",
       "31    23    2     12       Overcast     Uber  Taxi      2.48   \n",
       "40    20   29     11  Partly Cloudy     Uber  Taxi      2.94   \n",
       "60    20   13     12  Mostly Cloudy     Uber  Taxi      1.16   \n",
       "69    13   30     11          Clear     Uber  Taxi      2.67   \n",
       "\n",
       "    surge_multiplier  price        date  \n",
       "18               1.0    NaN  2018-12-01  \n",
       "31               1.0    NaN  2018-12-02  \n",
       "40               1.0    NaN  2018-11-29  \n",
       "60               1.0    NaN  2018-12-13  \n",
       "69               1.0    NaN  2018-11-30  "
      ]
     },
     "execution_count": 316,
     "metadata": {},
     "output_type": "execute_result"
    }
   ],
   "source": [
    "# Check Missing Values for Variable `price`\n",
    "df[df['price'].isnull()].head()"
   ]
  },
  {
   "cell_type": "code",
   "execution_count": 317,
   "metadata": {},
   "outputs": [
    {
     "data": {
      "text/html": [
       "<div>\n",
       "<style scoped>\n",
       "    .dataframe tbody tr th:only-of-type {\n",
       "        vertical-align: middle;\n",
       "    }\n",
       "\n",
       "    .dataframe tbody tr th {\n",
       "        vertical-align: top;\n",
       "    }\n",
       "\n",
       "    .dataframe thead th {\n",
       "        text-align: right;\n",
       "    }\n",
       "</style>\n",
       "<table border=\"1\" class=\"dataframe\">\n",
       "  <thead>\n",
       "    <tr style=\"text-align: right;\">\n",
       "      <th></th>\n",
       "      <th>hour</th>\n",
       "      <th>day</th>\n",
       "      <th>month</th>\n",
       "      <th>weather</th>\n",
       "      <th>cab_type</th>\n",
       "      <th>name</th>\n",
       "      <th>distance</th>\n",
       "      <th>surge_multiplier</th>\n",
       "      <th>price</th>\n",
       "      <th>date</th>\n",
       "      <th>price_null</th>\n",
       "    </tr>\n",
       "  </thead>\n",
       "  <tbody>\n",
       "    <tr>\n",
       "      <th>0</th>\n",
       "      <td>9</td>\n",
       "      <td>16</td>\n",
       "      <td>12</td>\n",
       "      <td>Mostly Cloudy</td>\n",
       "      <td>Lyft</td>\n",
       "      <td>Shared</td>\n",
       "      <td>0.44</td>\n",
       "      <td>1.0</td>\n",
       "      <td>5.0</td>\n",
       "      <td>2018-12-16</td>\n",
       "      <td>0</td>\n",
       "    </tr>\n",
       "    <tr>\n",
       "      <th>1</th>\n",
       "      <td>2</td>\n",
       "      <td>27</td>\n",
       "      <td>11</td>\n",
       "      <td>Rain</td>\n",
       "      <td>Lyft</td>\n",
       "      <td>Lux</td>\n",
       "      <td>0.44</td>\n",
       "      <td>1.0</td>\n",
       "      <td>11.0</td>\n",
       "      <td>2018-11-27</td>\n",
       "      <td>0</td>\n",
       "    </tr>\n",
       "    <tr>\n",
       "      <th>2</th>\n",
       "      <td>1</td>\n",
       "      <td>28</td>\n",
       "      <td>11</td>\n",
       "      <td>Clear</td>\n",
       "      <td>Lyft</td>\n",
       "      <td>Lyft</td>\n",
       "      <td>0.44</td>\n",
       "      <td>1.0</td>\n",
       "      <td>7.0</td>\n",
       "      <td>2018-11-28</td>\n",
       "      <td>0</td>\n",
       "    </tr>\n",
       "    <tr>\n",
       "      <th>3</th>\n",
       "      <td>4</td>\n",
       "      <td>30</td>\n",
       "      <td>11</td>\n",
       "      <td>Clear</td>\n",
       "      <td>Lyft</td>\n",
       "      <td>Lux Black XL</td>\n",
       "      <td>0.44</td>\n",
       "      <td>1.0</td>\n",
       "      <td>26.0</td>\n",
       "      <td>2018-11-30</td>\n",
       "      <td>0</td>\n",
       "    </tr>\n",
       "    <tr>\n",
       "      <th>4</th>\n",
       "      <td>3</td>\n",
       "      <td>29</td>\n",
       "      <td>11</td>\n",
       "      <td>Partly Cloudy</td>\n",
       "      <td>Lyft</td>\n",
       "      <td>Lyft XL</td>\n",
       "      <td>0.44</td>\n",
       "      <td>1.0</td>\n",
       "      <td>9.0</td>\n",
       "      <td>2018-11-29</td>\n",
       "      <td>0</td>\n",
       "    </tr>\n",
       "  </tbody>\n",
       "</table>\n",
       "</div>"
      ],
      "text/plain": [
       "   hour  day  month        weather cab_type          name  distance  \\\n",
       "0     9   16     12  Mostly Cloudy     Lyft        Shared      0.44   \n",
       "1     2   27     11           Rain     Lyft           Lux      0.44   \n",
       "2     1   28     11          Clear     Lyft          Lyft      0.44   \n",
       "3     4   30     11          Clear     Lyft  Lux Black XL      0.44   \n",
       "4     3   29     11  Partly Cloudy     Lyft       Lyft XL      0.44   \n",
       "\n",
       "   surge_multiplier  price        date  price_null  \n",
       "0               1.0    5.0  2018-12-16           0  \n",
       "1               1.0   11.0  2018-11-27           0  \n",
       "2               1.0    7.0  2018-11-28           0  \n",
       "3               1.0   26.0  2018-11-30           0  \n",
       "4               1.0    9.0  2018-11-29           0  "
      ]
     },
     "execution_count": 317,
     "metadata": {},
     "output_type": "execute_result"
    }
   ],
   "source": [
    "# Create a variable that indicates whether the value of the variable `price` is missing or not\n",
    "temp = df.copy()\n",
    "temp['price_null'] = np.where(df['price'].isnull(),1,0)\n",
    "temp.head()"
   ]
  },
  {
   "cell_type": "code",
   "execution_count": 318,
   "metadata": {},
   "outputs": [
    {
     "name": "stdout",
     "output_type": "stream",
     "text": [
      "Value Counts\n",
      "cab_type  price_null\n",
      "Lyft      0             307408\n",
      "Uber      0             330568\n",
      "          1              55095\n",
      "Name: price_null, dtype: int64\n",
      "\n",
      "Mean\n",
      "cab_type\n",
      "Lyft    0.000000\n",
      "Uber    0.142858\n",
      "Name: price_null, dtype: float64\n"
     ]
    }
   ],
   "source": [
    "# Group the data based on the `cab_type`\n",
    "print('Value Counts')\n",
    "print(temp.groupby('cab_type')['price_null'].value_counts())\n",
    "print()\n",
    "print('Mean')\n",
    "print(temp.groupby('cab_type')['price_null'].mean())"
   ]
  },
  {
   "attachments": {},
   "cell_type": "markdown",
   "metadata": {},
   "source": [
    "`INSIGHT`:\n",
    "\n",
    "The missing values only takes place in the `Uber` category. Since there is no feature indicating for cancelation or whatsoever hence the missing data needed to be handled"
   ]
  },
  {
   "attachments": {},
   "cell_type": "markdown",
   "metadata": {},
   "source": [
    "### Create Train-set and Test-set"
   ]
  },
  {
   "cell_type": "code",
   "execution_count": 319,
   "metadata": {},
   "outputs": [],
   "source": [
    "X = df.drop(['price'], axis =1)\n",
    "y = df[['price']]"
   ]
  },
  {
   "cell_type": "code",
   "execution_count": 320,
   "metadata": {},
   "outputs": [
    {
     "name": "stdout",
     "output_type": "stream",
     "text": [
      "Train Size:  (554456, 9)\n",
      "Test Size:  (138615, 9)\n"
     ]
    }
   ],
   "source": [
    "X_train, X_test, y_train, y_test = train_test_split(X, y, test_size=0.2, random_state=1)\n",
    "print('Train Size: ', X_train.shape)\n",
    "print('Test Size: ', X_test.shape)"
   ]
  },
  {
   "cell_type": "code",
   "execution_count": 321,
   "metadata": {},
   "outputs": [
    {
     "name": "stdout",
     "output_type": "stream",
     "text": [
      "Skewness :  1.0457470560899256\n"
     ]
    },
    {
     "data": {
      "image/png": "[encoded data removed]",
      "text/plain": [
       "<Figure size 1500x700 with 1 Axes>"
      ]
     },
     "metadata": {},
     "output_type": "display_data"
    }
   ],
   "source": [
    "# Let's Check Type of Distirbution of feature `price`\n",
    "fig, ax = plt.subplots(1, 1, figsize=(15, 7))\n",
    "\n",
    "y_train['price'].hist(bins=30, ax=ax, label='Histogram of Price') # Histogram of original dataset\n",
    "ax.set_title('Distribution of Price')\n",
    "ax.set_xlabel('Price')\n",
    "ax.set_ylabel('Frequency')\n",
    "ax.legend(loc=\"upper right\")\n",
    "\n",
    "print('Skewness : ', temp['price'].skew())"
   ]
  },
  {
   "attachments": {},
   "cell_type": "markdown",
   "metadata": {},
   "source": [
    "INSIGHT:\n",
    "\n",
    "The data is skewed to the right, hence we use `Median` to fill the NA values in the column `price`"
   ]
  },
  {
   "cell_type": "code",
   "execution_count": 322,
   "metadata": {},
   "outputs": [
    {
     "name": "stdout",
     "output_type": "stream",
     "text": [
      "Mean Value - Before Imputation   :  16.542652539484145\n",
      "Median Value - Before Imputation :  13.5\n"
     ]
    }
   ],
   "source": [
    "# Display Value of Median Before Imputation\n",
    "\n",
    "mean_df = y_train['price'].mean()\n",
    "median_df = y_train['price'].median()\n",
    "\n",
    "print('Mean Value - Before Imputation   : ', mean_df)\n",
    "print('Median Value - Before Imputation : ', median_df)"
   ]
  },
  {
   "cell_type": "code",
   "execution_count": 323,
   "metadata": {},
   "outputs": [
    {
     "data": {
      "text/plain": [
       "price    0\n",
       "dtype: int64"
      ]
     },
     "execution_count": 323,
     "metadata": {},
     "output_type": "execute_result"
    }
   ],
   "source": [
    "# Function to fill missing values with median in y_train\n",
    "y_train['price'].fillna(median_df, inplace=True)\n",
    "y_train.isnull().sum()"
   ]
  },
  {
   "cell_type": "code",
   "execution_count": 324,
   "metadata": {},
   "outputs": [
    {
     "data": {
      "text/plain": [
       "price    0\n",
       "dtype: int64"
      ]
     },
     "execution_count": 324,
     "metadata": {},
     "output_type": "execute_result"
    }
   ],
   "source": [
    "# Function to fill missing values with median in y_test\n",
    "y_test['price'].fillna(median_df, inplace=True)\n",
    "y_test.isnull().sum()"
   ]
  },
  {
   "attachments": {},
   "cell_type": "markdown",
   "metadata": {},
   "source": [
    "### See Outliers in Test-set"
   ]
  },
  {
   "cell_type": "code",
   "execution_count": 325,
   "metadata": {},
   "outputs": [],
   "source": [
    "# Create function to create histplot and boxplot\n",
    "def diagnostic(df, var):\n",
    "    plt.figure(figsize=(16,4))\n",
    "\n",
    "    # Hist\n",
    "    plt.subplot(1,2,1)\n",
    "    sns.histplot(df[var], bins=30)\n",
    "    plt.title('Histogram ' + var)\n",
    "\n",
    "    # Boxplot\n",
    "    plt.subplot(1,2,2)\n",
    "    sns.boxplot(y=df[var])\n",
    "    plt.title('Boxplot ' + var)\n",
    "\n",
    "    plt.show"
   ]
  },
  {
   "cell_type": "code",
   "execution_count": 326,
   "metadata": {},
   "outputs": [
    {
     "data": {
      "image/png": "[encoded data removed]",
      "text/plain": [
       "<Figure size 640x480 with 1 Axes>"
      ]
     },
     "metadata": {},
     "output_type": "display_data"
    }
   ],
   "source": [
    "# Outliers in X_train\n",
    "sns.boxplot(data=X_train, orient='h')\n",
    "plt.title('Outliers in X_train')\n",
    "plt.show()"
   ]
  },
  {
   "cell_type": "code",
   "execution_count": 327,
   "metadata": {},
   "outputs": [
    {
     "name": "stdout",
     "output_type": "stream",
     "text": [
      "\n",
      "Skewness Value :  1.1495493393371072\n"
     ]
    },
    {
     "data": {
      "image/png": "[encoded data removed]",
      "text/plain": [
       "<Figure size 640x480 with 1 Axes>"
      ]
     },
     "metadata": {},
     "output_type": "display_data"
    }
   ],
   "source": [
    "# Outliers in y_train\n",
    "sns.boxplot(data=y_train, orient='h')\n",
    "plt.title('Outliers in y_train')\n",
    "print('\\nSkewness Value : ', y_train['price'].skew())\n",
    "plt.show()"
   ]
  },
  {
   "attachments": {},
   "cell_type": "markdown",
   "metadata": {},
   "source": [
    "`INSIGHT`:\n",
    "\n",
    "As we can see, the price is `skewed with a tail to the right` from the histogram. From the `boxplot` we can see there are some outliers at the right end of the distribution variable."
   ]
  },
  {
   "attachments": {},
   "cell_type": "markdown",
   "metadata": {},
   "source": [
    "### Outlier Handling\n",
    "\n",
    "Since the distribution is not well-distributed we'll be using `Tukey Rule: IQR`"
   ]
  },
  {
   "cell_type": "code",
   "execution_count": 328,
   "metadata": {},
   "outputs": [],
   "source": [
    "# Create function to find IQR, upper and lower boundaries for skewed distribution\n",
    "\n",
    "def find_skew (data, var, distance):\n",
    "    q1 = data[var].quantile(0.25)\n",
    "    q3 = data[var].quantile(0.75)\n",
    "\n",
    "    iqr = q3-q1\n",
    "    lower_boundaries = q1 - 1.5 * iqr\n",
    "    upper_boundaries = q3 + 1.5 * iqr\n",
    "\n",
    "    return upper_boundaries, lower_boundaries"
   ]
  },
  {
   "cell_type": "code",
   "execution_count": 329,
   "metadata": {},
   "outputs": [
    {
     "name": "stdout",
     "output_type": "stream",
     "text": [
      "Upper and lower boundaries in price for 1.5 times inter-quantile\n",
      "42.0 -10.0\n",
      "\n",
      "Upper and lower boundaries in distance for 1.5 times inter-quantile\n",
      "5.405 -1.195\n",
      "\n"
     ]
    }
   ],
   "source": [
    "# Looking for outliers, using the interquantile proximity rule IQR * 1.5, for `price` in the dataset\n",
    "price_upper_boundaries, price_lower_boundaries = find_skew(y_train, 'price', 1.5)\n",
    "print('Upper and lower boundaries in price for 1.5 times inter-quantile')\n",
    "print(price_upper_boundaries, price_lower_boundaries)\n",
    "print('')\n",
    "\n",
    "# Looking for outliers, using the interquantile proximity rule IQR * 1.5, for `distance` in the dataset\n",
    "distance_upper_boundaries, distance_lower_boundaries = find_skew(X_train, 'distance', 1.5)\n",
    "print('Upper and lower boundaries in distance for 1.5 times inter-quantile')\n",
    "print(distance_upper_boundaries, distance_lower_boundaries)\n",
    "print('')"
   ]
  },
  {
   "cell_type": "code",
   "execution_count": 330,
   "metadata": {},
   "outputs": [
    {
     "name": "stdout",
     "output_type": "stream",
     "text": [
      "Total order: 554456\n",
      "Taxi orders with price bigger than 42 USD: 6369\n",
      "% of taxi orders with price bigger than 42 USD: 0.9189534694136676\n",
      "------------------------------------------\n",
      "Total order: 554456\n",
      "Taxi orders with distance bigger than 5 km: 6626\n",
      "% of taxi orders with distance bigger than 5 km: 0.9560348074006847\n"
     ]
    }
   ],
   "source": [
    "# Look for number and percentage of order of outliers for 'price' ArithmeticError\n",
    "print('Total order: {}'.format(len(y_train)))\n",
    "print('Taxi orders with price bigger than 42 USD: {}'.format(len(y_train[y_train['price'] > price_upper_boundaries])))\n",
    "print('% of taxi orders with price bigger than 42 USD: {}'.format(len(y_train[y_train['price'] > price_upper_boundaries])/len(df) * 100))\n",
    "print('-'*42)\n",
    "\n",
    "# Look for number and percentage of order of outliers for 'distance' ArithmeticError\n",
    "print('Total order: {}'.format(len(X_train)))\n",
    "print('Taxi orders with distance bigger than 5 km: {}'.format(len(X_train[X_train['distance'] > distance_upper_boundaries])))\n",
    "print('% of taxi orders with distance bigger than 5 km: {}'.format(len(X_train[X_train['distance'] > distance_upper_boundaries])/len(df) * 100))"
   ]
  },
  {
   "cell_type": "code",
   "execution_count": 331,
   "metadata": {},
   "outputs": [],
   "source": [
    "# Set Upper and Lower Limit for each variable\n",
    "# Price\n",
    "price_upper_limit, price_lower_limit = find_skew(y_train, 'price', 1.5)\n",
    "\n",
    "# Distance\n",
    "distance_upper_limit, distance_lower_limit = find_skew(X_train, 'distance', 1.5)"
   ]
  },
  {
   "attachments": {},
   "cell_type": "markdown",
   "metadata": {},
   "source": [
    "### Trimming"
   ]
  },
  {
   "cell_type": "code",
   "execution_count": 332,
   "metadata": {},
   "outputs": [
    {
     "name": "stdout",
     "output_type": "stream",
     "text": [
      "y_train dataset - Before trimming :  (554456, 1)\n",
      "y_train dataset - After trimming  :  (542366, 1)\n",
      "------------------------------------------\n",
      "X_train dataset - Before trimming :  (554456, 9)\n",
      "X_train dataset - After trimming  :  (542366, 9)\n"
     ]
    }
   ],
   "source": [
    "# Define Outliers\n",
    "# Outliers for Price\n",
    "outliers_price = np.where(y_train['price'] > price_upper_limit, True,\n",
    "                          np.where(y_train['price'] < price_lower_limit, True, False))\n",
    "\n",
    "# Outliers for Price\n",
    "outliers_distance = np.where(X_train['distance'] > distance_upper_limit, True,\n",
    "                          np.where(X_train['distance'] < distance_lower_limit, True, False))\n",
    "\n",
    "# Let's trimm the dataset\n",
    "y_train_trimmed = y_train.loc[~(outliers_price + outliers_distance)]\n",
    "X_train_trimmed = X_train.loc[~(outliers_price + outliers_distance)]\n",
    "print('y_train dataset - Before trimming : ', y_train.shape)\n",
    "print('y_train dataset - After trimming  : ', y_train_trimmed.shape)\n",
    "print('-'*42)\n",
    "print('X_train dataset - Before trimming : ', X_train.shape)\n",
    "print('X_train dataset - After trimming  : ', X_train_trimmed.shape)"
   ]
  },
  {
   "attachments": {},
   "cell_type": "markdown",
   "metadata": {},
   "source": [
    "### See Outliers in Trimmed Test-set"
   ]
  },
  {
   "cell_type": "code",
   "execution_count": 333,
   "metadata": {},
   "outputs": [
    {
     "name": "stdout",
     "output_type": "stream",
     "text": [
      "Train-Set After Trimming\n"
     ]
    },
    {
     "data": {
      "image/png": "[encoded data removed]",
      "text/plain": [
       "<Figure size 1600x400 with 2 Axes>"
      ]
     },
     "metadata": {},
     "output_type": "display_data"
    },
    {
     "data": {
      "image/png": "[encoded data removed]",
      "text/plain": [
       "<Figure size 1600x400 with 2 Axes>"
      ]
     },
     "metadata": {},
     "output_type": "display_data"
    }
   ],
   "source": [
    "# See the distribuyion of distance and price after trimmed\n",
    "print('Train-Set After Trimming')\n",
    "diagnostic(X_train_trimmed, 'distance')\n",
    "diagnostic(y_train_trimmed, 'price')"
   ]
  },
  {
   "attachments": {},
   "cell_type": "markdown",
   "metadata": {},
   "source": [
    "Now the we can see the distribution is fairly normal, as well as the outliers is not as extreme as it was."
   ]
  },
  {
   "attachments": {},
   "cell_type": "markdown",
   "metadata": {},
   "source": [
    "### Create Cardinality\n",
    "\n",
    "Handling high cardinality in some data for a better model. As some of the data are still be able to be grouped into a certain box has it's has the same traits. It's also to determine the relevance and usefulness of a feature. As features with high cardinality may have a lot of unique values, which could make it more difficult to train models or identify patterns. In the last it's hoped to enhance the performance Optimization, because cardinality can affect the performance of database queries, indexing, and storage. High cardinality columns may require more memory and processing power to manage, while low cardinality columns may be easier to index and search.\n",
    "\n",
    "There are some features that I will group so it has lower cardinality, there are:\n",
    "\n",
    " * In the feature `hour`, I will group it into AM and PM\n",
    " * Grouping `distance` into:\n",
    "     - Near\n",
    "     - Medium\n",
    "     - Far\n",
    "     - Very Far\n",
    " * Create a new feature contains if an order is done on the weekend or not\n",
    "\n",
    "Source: https://towardsdatascience.com/dealing-with-features-that-have-high-cardinality-1c9212d7ff1b"
   ]
  },
  {
   "cell_type": "code",
   "execution_count": 334,
   "metadata": {},
   "outputs": [
    {
     "name": "stdout",
     "output_type": "stream",
     "text": [
      "<class 'pandas.core.frame.DataFrame'>\n",
      "Int64Index: 542366 entries, 424231 to 128037\n",
      "Data columns (total 9 columns):\n",
      " #   Column            Non-Null Count   Dtype  \n",
      "---  ------            --------------   -----  \n",
      " 0   hour              542366 non-null  int64  \n",
      " 1   day               542366 non-null  int64  \n",
      " 2   month             542366 non-null  int64  \n",
      " 3   weather           542366 non-null  object \n",
      " 4   cab_type          542366 non-null  object \n",
      " 5   name              542366 non-null  object \n",
      " 6   distance          542366 non-null  float64\n",
      " 7   surge_multiplier  542366 non-null  float64\n",
      " 8   date              542366 non-null  object \n",
      "dtypes: float64(2), int64(3), object(4)\n",
      "memory usage: 41.4+ MB\n"
     ]
    }
   ],
   "source": [
    "X_train_trimmed.info()"
   ]
  },
  {
   "cell_type": "code",
   "execution_count": 335,
   "metadata": {},
   "outputs": [
    {
     "data": {
      "text/html": [
       "<div>\n",
       "<style scoped>\n",
       "    .dataframe tbody tr th:only-of-type {\n",
       "        vertical-align: middle;\n",
       "    }\n",
       "\n",
       "    .dataframe tbody tr th {\n",
       "        vertical-align: top;\n",
       "    }\n",
       "\n",
       "    .dataframe thead th {\n",
       "        text-align: right;\n",
       "    }\n",
       "</style>\n",
       "<table border=\"1\" class=\"dataframe\">\n",
       "  <thead>\n",
       "    <tr style=\"text-align: right;\">\n",
       "      <th></th>\n",
       "      <th>hour</th>\n",
       "      <th>day</th>\n",
       "      <th>month</th>\n",
       "      <th>weather</th>\n",
       "      <th>cab_type</th>\n",
       "      <th>name</th>\n",
       "      <th>distance</th>\n",
       "      <th>surge_multiplier</th>\n",
       "      <th>date</th>\n",
       "      <th>time</th>\n",
       "    </tr>\n",
       "  </thead>\n",
       "  <tbody>\n",
       "    <tr>\n",
       "      <th>424231</th>\n",
       "      <td>11</td>\n",
       "      <td>18</td>\n",
       "      <td>12</td>\n",
       "      <td>Mostly Cloudy</td>\n",
       "      <td>Uber</td>\n",
       "      <td>Black SUV</td>\n",
       "      <td>1.68</td>\n",
       "      <td>1.0</td>\n",
       "      <td>2018-12-18</td>\n",
       "      <td>am</td>\n",
       "    </tr>\n",
       "    <tr>\n",
       "      <th>462379</th>\n",
       "      <td>10</td>\n",
       "      <td>17</td>\n",
       "      <td>12</td>\n",
       "      <td>Possible Drizzle</td>\n",
       "      <td>Lyft</td>\n",
       "      <td>Lux</td>\n",
       "      <td>2.03</td>\n",
       "      <td>1.0</td>\n",
       "      <td>2018-12-17</td>\n",
       "      <td>am</td>\n",
       "    </tr>\n",
       "    <tr>\n",
       "      <th>517429</th>\n",
       "      <td>17</td>\n",
       "      <td>26</td>\n",
       "      <td>11</td>\n",
       "      <td>Overcast</td>\n",
       "      <td>Lyft</td>\n",
       "      <td>Lyft</td>\n",
       "      <td>1.02</td>\n",
       "      <td>1.0</td>\n",
       "      <td>2018-11-26</td>\n",
       "      <td>pm</td>\n",
       "    </tr>\n",
       "    <tr>\n",
       "      <th>23107</th>\n",
       "      <td>2</td>\n",
       "      <td>29</td>\n",
       "      <td>11</td>\n",
       "      <td>Mostly Cloudy</td>\n",
       "      <td>Uber</td>\n",
       "      <td>UberXL</td>\n",
       "      <td>0.49</td>\n",
       "      <td>1.0</td>\n",
       "      <td>2018-11-29</td>\n",
       "      <td>am</td>\n",
       "    </tr>\n",
       "    <tr>\n",
       "      <th>354648</th>\n",
       "      <td>4</td>\n",
       "      <td>30</td>\n",
       "      <td>11</td>\n",
       "      <td>Clear</td>\n",
       "      <td>Uber</td>\n",
       "      <td>Taxi</td>\n",
       "      <td>2.80</td>\n",
       "      <td>1.0</td>\n",
       "      <td>2018-11-30</td>\n",
       "      <td>am</td>\n",
       "    </tr>\n",
       "  </tbody>\n",
       "</table>\n",
       "</div>"
      ],
      "text/plain": [
       "        hour  day  month           weather cab_type       name  distance  \\\n",
       "424231    11   18     12     Mostly Cloudy     Uber  Black SUV      1.68   \n",
       "462379    10   17     12  Possible Drizzle     Lyft        Lux      2.03   \n",
       "517429    17   26     11          Overcast     Lyft       Lyft      1.02   \n",
       "23107      2   29     11     Mostly Cloudy     Uber     UberXL      0.49   \n",
       "354648     4   30     11             Clear     Uber       Taxi      2.80   \n",
       "\n",
       "        surge_multiplier        date time  \n",
       "424231               1.0  2018-12-18   am  \n",
       "462379               1.0  2018-12-17   am  \n",
       "517429               1.0  2018-11-26   pm  \n",
       "23107                1.0  2018-11-29   am  \n",
       "354648               1.0  2018-11-30   am  "
      ]
     },
     "execution_count": 335,
     "metadata": {},
     "output_type": "execute_result"
    }
   ],
   "source": [
    "# Grouping X_train hour into AM and PM\n",
    "X_train_trimmed['time'] = 'am'\n",
    "X_train_trimmed.loc[X_train_trimmed['hour'] > 12, 'time'] = 'pm'\n",
    "X_train_trimmed.head()"
   ]
  },
  {
   "cell_type": "code",
   "execution_count": 336,
   "metadata": {},
   "outputs": [
    {
     "data": {
      "text/html": [
       "<div>\n",
       "<style scoped>\n",
       "    .dataframe tbody tr th:only-of-type {\n",
       "        vertical-align: middle;\n",
       "    }\n",
       "\n",
       "    .dataframe tbody tr th {\n",
       "        vertical-align: top;\n",
       "    }\n",
       "\n",
       "    .dataframe thead th {\n",
       "        text-align: right;\n",
       "    }\n",
       "</style>\n",
       "<table border=\"1\" class=\"dataframe\">\n",
       "  <thead>\n",
       "    <tr style=\"text-align: right;\">\n",
       "      <th></th>\n",
       "      <th>hour</th>\n",
       "      <th>day</th>\n",
       "      <th>month</th>\n",
       "      <th>weather</th>\n",
       "      <th>cab_type</th>\n",
       "      <th>name</th>\n",
       "      <th>distance</th>\n",
       "      <th>surge_multiplier</th>\n",
       "      <th>date</th>\n",
       "      <th>time</th>\n",
       "    </tr>\n",
       "  </thead>\n",
       "  <tbody>\n",
       "    <tr>\n",
       "      <th>541064</th>\n",
       "      <td>9</td>\n",
       "      <td>2</td>\n",
       "      <td>12</td>\n",
       "      <td>Light Rain</td>\n",
       "      <td>Lyft</td>\n",
       "      <td>Lux</td>\n",
       "      <td>1.50</td>\n",
       "      <td>1.0</td>\n",
       "      <td>2018-12-02</td>\n",
       "      <td>am</td>\n",
       "    </tr>\n",
       "    <tr>\n",
       "      <th>215250</th>\n",
       "      <td>17</td>\n",
       "      <td>28</td>\n",
       "      <td>11</td>\n",
       "      <td>Overcast</td>\n",
       "      <td>Lyft</td>\n",
       "      <td>Lyft XL</td>\n",
       "      <td>2.41</td>\n",
       "      <td>1.0</td>\n",
       "      <td>2018-11-28</td>\n",
       "      <td>pm</td>\n",
       "    </tr>\n",
       "    <tr>\n",
       "      <th>454530</th>\n",
       "      <td>13</td>\n",
       "      <td>28</td>\n",
       "      <td>11</td>\n",
       "      <td>Partly Cloudy</td>\n",
       "      <td>Lyft</td>\n",
       "      <td>Lyft</td>\n",
       "      <td>1.07</td>\n",
       "      <td>1.0</td>\n",
       "      <td>2018-11-28</td>\n",
       "      <td>pm</td>\n",
       "    </tr>\n",
       "    <tr>\n",
       "      <th>150598</th>\n",
       "      <td>8</td>\n",
       "      <td>13</td>\n",
       "      <td>12</td>\n",
       "      <td>Clear</td>\n",
       "      <td>Uber</td>\n",
       "      <td>UberPool</td>\n",
       "      <td>3.53</td>\n",
       "      <td>1.0</td>\n",
       "      <td>2018-12-13</td>\n",
       "      <td>am</td>\n",
       "    </tr>\n",
       "    <tr>\n",
       "      <th>592364</th>\n",
       "      <td>11</td>\n",
       "      <td>28</td>\n",
       "      <td>11</td>\n",
       "      <td>Mostly Cloudy</td>\n",
       "      <td>Lyft</td>\n",
       "      <td>Lux Black</td>\n",
       "      <td>2.29</td>\n",
       "      <td>1.0</td>\n",
       "      <td>2018-11-28</td>\n",
       "      <td>am</td>\n",
       "    </tr>\n",
       "  </tbody>\n",
       "</table>\n",
       "</div>"
      ],
      "text/plain": [
       "        hour  day  month        weather cab_type       name  distance  \\\n",
       "541064     9    2     12     Light Rain     Lyft        Lux      1.50   \n",
       "215250    17   28     11       Overcast     Lyft    Lyft XL      2.41   \n",
       "454530    13   28     11  Partly Cloudy     Lyft       Lyft      1.07   \n",
       "150598     8   13     12          Clear     Uber   UberPool      3.53   \n",
       "592364    11   28     11  Mostly Cloudy     Lyft  Lux Black      2.29   \n",
       "\n",
       "        surge_multiplier        date time  \n",
       "541064               1.0  2018-12-02   am  \n",
       "215250               1.0  2018-11-28   pm  \n",
       "454530               1.0  2018-11-28   pm  \n",
       "150598               1.0  2018-12-13   am  \n",
       "592364               1.0  2018-11-28   am  "
      ]
     },
     "execution_count": 336,
     "metadata": {},
     "output_type": "execute_result"
    }
   ],
   "source": [
    "# Grouping X_test hour into AM and PM\n",
    "X_test['time'] = 'am'\n",
    "X_test.loc[X_test['hour'] > 12, 'time'] = 'pm'\n",
    "X_test.head()"
   ]
  },
  {
   "cell_type": "code",
   "execution_count": 337,
   "metadata": {},
   "outputs": [
    {
     "name": "stdout",
     "output_type": "stream",
     "text": [
      "Bin 0: 0.02 - 1.3650000000000002 = 159748\n",
      "Bin 1: 1.3650000000000002 - 2.7100000000000004 = 214514\n",
      "Bin 2: 2.7100000000000004 - 4.055 = 138458\n",
      "Bin 3: 4.055 - 5.4 = 29646\n"
     ]
    }
   ],
   "source": [
    "# Grouping distance on X_train_trimmed\n",
    "# count bins\n",
    "hist, bins = np.histogram(X_train_trimmed['distance'], bins=4)\n",
    "\n",
    "# print bins\n",
    "for i in range(len(bins)-1):\n",
    "    print(\"Bin {}: {} - {} = {}\".format(i, bins[i], bins[i+1], hist[i]))"
   ]
  },
  {
   "cell_type": "code",
   "execution_count": 338,
   "metadata": {},
   "outputs": [],
   "source": [
    "# Plot Bins On X_train_trimmed\n",
    "bins = -np.inf, 2,4,6, np.inf\n",
    "\n",
    "# Bins Label\n",
    "labels = ['near', 'medium', 'far', 'very far']\n",
    "\n",
    "# Bin the variable using set parameters\n",
    "X_train_trimmed['distance_level'] = pd.cut(df['distance'],\n",
    "                              bins=bins,\n",
    "                              labels=labels)\n",
    "\n",
    "X_train_trimmed['distance_level'] = X_train_trimmed['distance_level'].astype('str')"
   ]
  },
  {
   "cell_type": "code",
   "execution_count": 339,
   "metadata": {},
   "outputs": [],
   "source": [
    "# Plot Bins On X_test\n",
    "bins = -np.inf, 2,4,6, np.inf\n",
    "\n",
    "# Bins Label\n",
    "labels = ['near', 'medium', 'far', 'very far']\n",
    "\n",
    "# Bin the variable using set parameters\n",
    "X_test['distance_level'] = pd.cut(df['distance'],\n",
    "                              bins=bins,\n",
    "                              labels=labels)\n",
    "\n",
    "X_test['distance_level'] = X_test['distance_level'].astype('str')"
   ]
  },
  {
   "cell_type": "code",
   "execution_count": 340,
   "metadata": {},
   "outputs": [
    {
     "data": {
      "text/html": [
       "<div>\n",
       "<style scoped>\n",
       "    .dataframe tbody tr th:only-of-type {\n",
       "        vertical-align: middle;\n",
       "    }\n",
       "\n",
       "    .dataframe tbody tr th {\n",
       "        vertical-align: top;\n",
       "    }\n",
       "\n",
       "    .dataframe thead th {\n",
       "        text-align: right;\n",
       "    }\n",
       "</style>\n",
       "<table border=\"1\" class=\"dataframe\">\n",
       "  <thead>\n",
       "    <tr style=\"text-align: right;\">\n",
       "      <th></th>\n",
       "      <th>hour</th>\n",
       "      <th>day</th>\n",
       "      <th>month</th>\n",
       "      <th>weather</th>\n",
       "      <th>cab_type</th>\n",
       "      <th>name</th>\n",
       "      <th>distance</th>\n",
       "      <th>surge_multiplier</th>\n",
       "      <th>date</th>\n",
       "      <th>time</th>\n",
       "      <th>distance_level</th>\n",
       "      <th>is_weekend</th>\n",
       "    </tr>\n",
       "  </thead>\n",
       "  <tbody>\n",
       "    <tr>\n",
       "      <th>424231</th>\n",
       "      <td>11</td>\n",
       "      <td>18</td>\n",
       "      <td>12</td>\n",
       "      <td>Mostly Cloudy</td>\n",
       "      <td>Uber</td>\n",
       "      <td>Black SUV</td>\n",
       "      <td>1.68</td>\n",
       "      <td>1.0</td>\n",
       "      <td>2018-12-18</td>\n",
       "      <td>am</td>\n",
       "      <td>near</td>\n",
       "      <td>0</td>\n",
       "    </tr>\n",
       "    <tr>\n",
       "      <th>462379</th>\n",
       "      <td>10</td>\n",
       "      <td>17</td>\n",
       "      <td>12</td>\n",
       "      <td>Possible Drizzle</td>\n",
       "      <td>Lyft</td>\n",
       "      <td>Lux</td>\n",
       "      <td>2.03</td>\n",
       "      <td>1.0</td>\n",
       "      <td>2018-12-17</td>\n",
       "      <td>am</td>\n",
       "      <td>medium</td>\n",
       "      <td>0</td>\n",
       "    </tr>\n",
       "    <tr>\n",
       "      <th>517429</th>\n",
       "      <td>17</td>\n",
       "      <td>26</td>\n",
       "      <td>11</td>\n",
       "      <td>Overcast</td>\n",
       "      <td>Lyft</td>\n",
       "      <td>Lyft</td>\n",
       "      <td>1.02</td>\n",
       "      <td>1.0</td>\n",
       "      <td>2018-11-26</td>\n",
       "      <td>pm</td>\n",
       "      <td>near</td>\n",
       "      <td>0</td>\n",
       "    </tr>\n",
       "    <tr>\n",
       "      <th>23107</th>\n",
       "      <td>2</td>\n",
       "      <td>29</td>\n",
       "      <td>11</td>\n",
       "      <td>Mostly Cloudy</td>\n",
       "      <td>Uber</td>\n",
       "      <td>UberXL</td>\n",
       "      <td>0.49</td>\n",
       "      <td>1.0</td>\n",
       "      <td>2018-11-29</td>\n",
       "      <td>am</td>\n",
       "      <td>near</td>\n",
       "      <td>0</td>\n",
       "    </tr>\n",
       "    <tr>\n",
       "      <th>354648</th>\n",
       "      <td>4</td>\n",
       "      <td>30</td>\n",
       "      <td>11</td>\n",
       "      <td>Clear</td>\n",
       "      <td>Uber</td>\n",
       "      <td>Taxi</td>\n",
       "      <td>2.80</td>\n",
       "      <td>1.0</td>\n",
       "      <td>2018-11-30</td>\n",
       "      <td>am</td>\n",
       "      <td>medium</td>\n",
       "      <td>0</td>\n",
       "    </tr>\n",
       "  </tbody>\n",
       "</table>\n",
       "</div>"
      ],
      "text/plain": [
       "        hour  day  month           weather cab_type       name  distance  \\\n",
       "424231    11   18     12     Mostly Cloudy     Uber  Black SUV      1.68   \n",
       "462379    10   17     12  Possible Drizzle     Lyft        Lux      2.03   \n",
       "517429    17   26     11          Overcast     Lyft       Lyft      1.02   \n",
       "23107      2   29     11     Mostly Cloudy     Uber     UberXL      0.49   \n",
       "354648     4   30     11             Clear     Uber       Taxi      2.80   \n",
       "\n",
       "        surge_multiplier        date time distance_level  is_weekend  \n",
       "424231               1.0  2018-12-18   am           near           0  \n",
       "462379               1.0  2018-12-17   am         medium           0  \n",
       "517429               1.0  2018-11-26   pm           near           0  \n",
       "23107                1.0  2018-11-29   am           near           0  \n",
       "354648               1.0  2018-11-30   am         medium           0  "
      ]
     },
     "execution_count": 340,
     "metadata": {},
     "output_type": "execute_result"
    }
   ],
   "source": [
    "# Create a new column in the dataframe to indicate if the datetime is a weekend or not\n",
    "X_train_trimmed['is_weekend'] = X_train_trimmed['date'].apply(lambda x: 1 if x.weekday() in [5,6] else 0)\n",
    "X_train_trimmed.head()"
   ]
  },
  {
   "cell_type": "code",
   "execution_count": 341,
   "metadata": {},
   "outputs": [
    {
     "data": {
      "text/html": [
       "<div>\n",
       "<style scoped>\n",
       "    .dataframe tbody tr th:only-of-type {\n",
       "        vertical-align: middle;\n",
       "    }\n",
       "\n",
       "    .dataframe tbody tr th {\n",
       "        vertical-align: top;\n",
       "    }\n",
       "\n",
       "    .dataframe thead th {\n",
       "        text-align: right;\n",
       "    }\n",
       "</style>\n",
       "<table border=\"1\" class=\"dataframe\">\n",
       "  <thead>\n",
       "    <tr style=\"text-align: right;\">\n",
       "      <th></th>\n",
       "      <th>hour</th>\n",
       "      <th>day</th>\n",
       "      <th>month</th>\n",
       "      <th>weather</th>\n",
       "      <th>cab_type</th>\n",
       "      <th>name</th>\n",
       "      <th>distance</th>\n",
       "      <th>surge_multiplier</th>\n",
       "      <th>date</th>\n",
       "      <th>time</th>\n",
       "      <th>distance_level</th>\n",
       "      <th>is_weekend</th>\n",
       "    </tr>\n",
       "  </thead>\n",
       "  <tbody>\n",
       "    <tr>\n",
       "      <th>541064</th>\n",
       "      <td>9</td>\n",
       "      <td>2</td>\n",
       "      <td>12</td>\n",
       "      <td>Light Rain</td>\n",
       "      <td>Lyft</td>\n",
       "      <td>Lux</td>\n",
       "      <td>1.50</td>\n",
       "      <td>1.0</td>\n",
       "      <td>2018-12-02</td>\n",
       "      <td>am</td>\n",
       "      <td>near</td>\n",
       "      <td>1</td>\n",
       "    </tr>\n",
       "    <tr>\n",
       "      <th>215250</th>\n",
       "      <td>17</td>\n",
       "      <td>28</td>\n",
       "      <td>11</td>\n",
       "      <td>Overcast</td>\n",
       "      <td>Lyft</td>\n",
       "      <td>Lyft XL</td>\n",
       "      <td>2.41</td>\n",
       "      <td>1.0</td>\n",
       "      <td>2018-11-28</td>\n",
       "      <td>pm</td>\n",
       "      <td>medium</td>\n",
       "      <td>0</td>\n",
       "    </tr>\n",
       "    <tr>\n",
       "      <th>454530</th>\n",
       "      <td>13</td>\n",
       "      <td>28</td>\n",
       "      <td>11</td>\n",
       "      <td>Partly Cloudy</td>\n",
       "      <td>Lyft</td>\n",
       "      <td>Lyft</td>\n",
       "      <td>1.07</td>\n",
       "      <td>1.0</td>\n",
       "      <td>2018-11-28</td>\n",
       "      <td>pm</td>\n",
       "      <td>near</td>\n",
       "      <td>0</td>\n",
       "    </tr>\n",
       "    <tr>\n",
       "      <th>150598</th>\n",
       "      <td>8</td>\n",
       "      <td>13</td>\n",
       "      <td>12</td>\n",
       "      <td>Clear</td>\n",
       "      <td>Uber</td>\n",
       "      <td>UberPool</td>\n",
       "      <td>3.53</td>\n",
       "      <td>1.0</td>\n",
       "      <td>2018-12-13</td>\n",
       "      <td>am</td>\n",
       "      <td>medium</td>\n",
       "      <td>0</td>\n",
       "    </tr>\n",
       "    <tr>\n",
       "      <th>592364</th>\n",
       "      <td>11</td>\n",
       "      <td>28</td>\n",
       "      <td>11</td>\n",
       "      <td>Mostly Cloudy</td>\n",
       "      <td>Lyft</td>\n",
       "      <td>Lux Black</td>\n",
       "      <td>2.29</td>\n",
       "      <td>1.0</td>\n",
       "      <td>2018-11-28</td>\n",
       "      <td>am</td>\n",
       "      <td>medium</td>\n",
       "      <td>0</td>\n",
       "    </tr>\n",
       "  </tbody>\n",
       "</table>\n",
       "</div>"
      ],
      "text/plain": [
       "        hour  day  month        weather cab_type       name  distance  \\\n",
       "541064     9    2     12     Light Rain     Lyft        Lux      1.50   \n",
       "215250    17   28     11       Overcast     Lyft    Lyft XL      2.41   \n",
       "454530    13   28     11  Partly Cloudy     Lyft       Lyft      1.07   \n",
       "150598     8   13     12          Clear     Uber   UberPool      3.53   \n",
       "592364    11   28     11  Mostly Cloudy     Lyft  Lux Black      2.29   \n",
       "\n",
       "        surge_multiplier        date time distance_level  is_weekend  \n",
       "541064               1.0  2018-12-02   am           near           1  \n",
       "215250               1.0  2018-11-28   pm         medium           0  \n",
       "454530               1.0  2018-11-28   pm           near           0  \n",
       "150598               1.0  2018-12-13   am         medium           0  \n",
       "592364               1.0  2018-11-28   am         medium           0  "
      ]
     },
     "execution_count": 341,
     "metadata": {},
     "output_type": "execute_result"
    }
   ],
   "source": [
    "# Create a new column in the dataframe to indicate if the datetime is a weekend or not\n",
    "X_test['is_weekend'] = X_test['date'].apply(lambda x: 1 if x.weekday() in [5,6] else 0)\n",
    "X_test.head()"
   ]
  },
  {
   "cell_type": "code",
   "execution_count": 342,
   "metadata": {},
   "outputs": [
    {
     "data": {
      "text/html": [
       "<div>\n",
       "<style scoped>\n",
       "    .dataframe tbody tr th:only-of-type {\n",
       "        vertical-align: middle;\n",
       "    }\n",
       "\n",
       "    .dataframe tbody tr th {\n",
       "        vertical-align: top;\n",
       "    }\n",
       "\n",
       "    .dataframe thead th {\n",
       "        text-align: right;\n",
       "    }\n",
       "</style>\n",
       "<table border=\"1\" class=\"dataframe\">\n",
       "  <thead>\n",
       "    <tr style=\"text-align: right;\">\n",
       "      <th></th>\n",
       "      <th>weather</th>\n",
       "      <th>cab_type</th>\n",
       "      <th>name</th>\n",
       "      <th>distance</th>\n",
       "      <th>surge_multiplier</th>\n",
       "      <th>time</th>\n",
       "      <th>distance_level</th>\n",
       "      <th>is_weekend</th>\n",
       "    </tr>\n",
       "  </thead>\n",
       "  <tbody>\n",
       "    <tr>\n",
       "      <th>424231</th>\n",
       "      <td>Mostly Cloudy</td>\n",
       "      <td>Uber</td>\n",
       "      <td>Black SUV</td>\n",
       "      <td>1.68</td>\n",
       "      <td>1.0</td>\n",
       "      <td>am</td>\n",
       "      <td>near</td>\n",
       "      <td>0</td>\n",
       "    </tr>\n",
       "    <tr>\n",
       "      <th>462379</th>\n",
       "      <td>Possible Drizzle</td>\n",
       "      <td>Lyft</td>\n",
       "      <td>Lux</td>\n",
       "      <td>2.03</td>\n",
       "      <td>1.0</td>\n",
       "      <td>am</td>\n",
       "      <td>medium</td>\n",
       "      <td>0</td>\n",
       "    </tr>\n",
       "    <tr>\n",
       "      <th>517429</th>\n",
       "      <td>Overcast</td>\n",
       "      <td>Lyft</td>\n",
       "      <td>Lyft</td>\n",
       "      <td>1.02</td>\n",
       "      <td>1.0</td>\n",
       "      <td>pm</td>\n",
       "      <td>near</td>\n",
       "      <td>0</td>\n",
       "    </tr>\n",
       "    <tr>\n",
       "      <th>23107</th>\n",
       "      <td>Mostly Cloudy</td>\n",
       "      <td>Uber</td>\n",
       "      <td>UberXL</td>\n",
       "      <td>0.49</td>\n",
       "      <td>1.0</td>\n",
       "      <td>am</td>\n",
       "      <td>near</td>\n",
       "      <td>0</td>\n",
       "    </tr>\n",
       "    <tr>\n",
       "      <th>354648</th>\n",
       "      <td>Clear</td>\n",
       "      <td>Uber</td>\n",
       "      <td>Taxi</td>\n",
       "      <td>2.80</td>\n",
       "      <td>1.0</td>\n",
       "      <td>am</td>\n",
       "      <td>medium</td>\n",
       "      <td>0</td>\n",
       "    </tr>\n",
       "  </tbody>\n",
       "</table>\n",
       "</div>"
      ],
      "text/plain": [
       "                 weather cab_type       name  distance  surge_multiplier time  \\\n",
       "424231     Mostly Cloudy     Uber  Black SUV      1.68               1.0   am   \n",
       "462379  Possible Drizzle     Lyft        Lux      2.03               1.0   am   \n",
       "517429          Overcast     Lyft       Lyft      1.02               1.0   pm   \n",
       "23107      Mostly Cloudy     Uber     UberXL      0.49               1.0   am   \n",
       "354648             Clear     Uber       Taxi      2.80               1.0   am   \n",
       "\n",
       "       distance_level  is_weekend  \n",
       "424231           near           0  \n",
       "462379         medium           0  \n",
       "517429           near           0  \n",
       "23107            near           0  \n",
       "354648         medium           0  "
      ]
     },
     "execution_count": 342,
     "metadata": {},
     "output_type": "execute_result"
    }
   ],
   "source": [
    "# Drop unused column in X_train_trimmed\n",
    "X_train_trimmed = X_train_trimmed.drop(['month', 'hour', 'day', 'date'], axis=1)\n",
    "X_train_trimmed.head()"
   ]
  },
  {
   "cell_type": "code",
   "execution_count": 343,
   "metadata": {},
   "outputs": [
    {
     "data": {
      "text/html": [
       "<div>\n",
       "<style scoped>\n",
       "    .dataframe tbody tr th:only-of-type {\n",
       "        vertical-align: middle;\n",
       "    }\n",
       "\n",
       "    .dataframe tbody tr th {\n",
       "        vertical-align: top;\n",
       "    }\n",
       "\n",
       "    .dataframe thead th {\n",
       "        text-align: right;\n",
       "    }\n",
       "</style>\n",
       "<table border=\"1\" class=\"dataframe\">\n",
       "  <thead>\n",
       "    <tr style=\"text-align: right;\">\n",
       "      <th></th>\n",
       "      <th>weather</th>\n",
       "      <th>cab_type</th>\n",
       "      <th>name</th>\n",
       "      <th>distance</th>\n",
       "      <th>surge_multiplier</th>\n",
       "      <th>time</th>\n",
       "      <th>distance_level</th>\n",
       "      <th>is_weekend</th>\n",
       "    </tr>\n",
       "  </thead>\n",
       "  <tbody>\n",
       "    <tr>\n",
       "      <th>541064</th>\n",
       "      <td>Light Rain</td>\n",
       "      <td>Lyft</td>\n",
       "      <td>Lux</td>\n",
       "      <td>1.50</td>\n",
       "      <td>1.0</td>\n",
       "      <td>am</td>\n",
       "      <td>near</td>\n",
       "      <td>1</td>\n",
       "    </tr>\n",
       "    <tr>\n",
       "      <th>215250</th>\n",
       "      <td>Overcast</td>\n",
       "      <td>Lyft</td>\n",
       "      <td>Lyft XL</td>\n",
       "      <td>2.41</td>\n",
       "      <td>1.0</td>\n",
       "      <td>pm</td>\n",
       "      <td>medium</td>\n",
       "      <td>0</td>\n",
       "    </tr>\n",
       "    <tr>\n",
       "      <th>454530</th>\n",
       "      <td>Partly Cloudy</td>\n",
       "      <td>Lyft</td>\n",
       "      <td>Lyft</td>\n",
       "      <td>1.07</td>\n",
       "      <td>1.0</td>\n",
       "      <td>pm</td>\n",
       "      <td>near</td>\n",
       "      <td>0</td>\n",
       "    </tr>\n",
       "    <tr>\n",
       "      <th>150598</th>\n",
       "      <td>Clear</td>\n",
       "      <td>Uber</td>\n",
       "      <td>UberPool</td>\n",
       "      <td>3.53</td>\n",
       "      <td>1.0</td>\n",
       "      <td>am</td>\n",
       "      <td>medium</td>\n",
       "      <td>0</td>\n",
       "    </tr>\n",
       "    <tr>\n",
       "      <th>592364</th>\n",
       "      <td>Mostly Cloudy</td>\n",
       "      <td>Lyft</td>\n",
       "      <td>Lux Black</td>\n",
       "      <td>2.29</td>\n",
       "      <td>1.0</td>\n",
       "      <td>am</td>\n",
       "      <td>medium</td>\n",
       "      <td>0</td>\n",
       "    </tr>\n",
       "  </tbody>\n",
       "</table>\n",
       "</div>"
      ],
      "text/plain": [
       "              weather cab_type       name  distance  surge_multiplier time  \\\n",
       "541064     Light Rain     Lyft        Lux      1.50               1.0   am   \n",
       "215250       Overcast     Lyft    Lyft XL      2.41               1.0   pm   \n",
       "454530  Partly Cloudy     Lyft       Lyft      1.07               1.0   pm   \n",
       "150598          Clear     Uber   UberPool      3.53               1.0   am   \n",
       "592364  Mostly Cloudy     Lyft  Lux Black      2.29               1.0   am   \n",
       "\n",
       "       distance_level  is_weekend  \n",
       "541064           near           1  \n",
       "215250         medium           0  \n",
       "454530           near           0  \n",
       "150598         medium           0  \n",
       "592364         medium           0  "
      ]
     },
     "execution_count": 343,
     "metadata": {},
     "output_type": "execute_result"
    }
   ],
   "source": [
    "# Drop unused column in X_test\n",
    "X_test = X_test.drop(['month', 'hour', 'day', 'date'], axis=1)\n",
    "X_test.head()"
   ]
  },
  {
   "cell_type": "code",
   "execution_count": 344,
   "metadata": {},
   "outputs": [
    {
     "name": "stdout",
     "output_type": "stream",
     "text": [
      "<class 'pandas.core.frame.DataFrame'>\n",
      "Int64Index: 542366 entries, 424231 to 128037\n",
      "Data columns (total 8 columns):\n",
      " #   Column            Non-Null Count   Dtype  \n",
      "---  ------            --------------   -----  \n",
      " 0   weather           542366 non-null  object \n",
      " 1   cab_type          542366 non-null  object \n",
      " 2   name              542366 non-null  object \n",
      " 3   distance          542366 non-null  float64\n",
      " 4   surge_multiplier  542366 non-null  float64\n",
      " 5   time              542366 non-null  object \n",
      " 6   distance_level    542366 non-null  object \n",
      " 7   is_weekend        542366 non-null  int64  \n",
      "dtypes: float64(2), int64(1), object(5)\n",
      "memory usage: 37.2+ MB\n",
      "None\n",
      "------------------------------------------\n",
      "<class 'pandas.core.frame.DataFrame'>\n",
      "Int64Index: 138615 entries, 541064 to 120144\n",
      "Data columns (total 8 columns):\n",
      " #   Column            Non-Null Count   Dtype  \n",
      "---  ------            --------------   -----  \n",
      " 0   weather           138615 non-null  object \n",
      " 1   cab_type          138615 non-null  object \n",
      " 2   name              138615 non-null  object \n",
      " 3   distance          138615 non-null  float64\n",
      " 4   surge_multiplier  138615 non-null  float64\n",
      " 5   time              138615 non-null  object \n",
      " 6   distance_level    138615 non-null  object \n",
      " 7   is_weekend        138615 non-null  int64  \n",
      "dtypes: float64(2), int64(1), object(5)\n",
      "memory usage: 9.5+ MB\n",
      "None\n"
     ]
    }
   ],
   "source": [
    "# See the info of Test-set\n",
    "print(X_train_trimmed.info())\n",
    "print('-'*42)\n",
    "print(X_test.info())"
   ]
  },
  {
   "attachments": {},
   "cell_type": "markdown",
   "metadata": {},
   "source": [
    "### Split Num and Cat Columns"
   ]
  },
  {
   "cell_type": "code",
   "execution_count": 345,
   "metadata": {},
   "outputs": [],
   "source": [
    "# Get numerical and categorical column \n",
    "num_col = ['distance', 'surge_multiplier']\n",
    "\n",
    "# For categorical we'll separate based on numerical and \n",
    "cat_col = ['cab_type', 'name']\n",
    "cat_col_ord = ['weather', 'time', 'distance_level', 'is_weekend']"
   ]
  },
  {
   "cell_type": "code",
   "execution_count": 346,
   "metadata": {},
   "outputs": [],
   "source": [
    "# Define Train-set and Test-set\n",
    "# X-set for Numerical Column\n",
    "X_train_num = X_train_trimmed[num_col]\n",
    "X_test_num = X_test[num_col]\n",
    "\n",
    "# X-set for Categorical Column\n",
    "X_train_cat = X_train_trimmed[cat_col]\n",
    "X_test_cat = X_test[cat_col]\n",
    "\n",
    "# X-set for Categorical Ordinal Column\n",
    "X_train_cat_ord = X_train_trimmed[cat_col_ord]\n",
    "X_test_cat_ord = X_test[cat_col_ord]"
   ]
  },
  {
   "attachments": {},
   "cell_type": "markdown",
   "metadata": {},
   "source": [
    "### Encoding Category Ordinal"
   ]
  },
  {
   "cell_type": "code",
   "execution_count": 347,
   "metadata": {},
   "outputs": [],
   "source": [
    "# Feature encoding using OrdinalEncoder\n",
    "encoder = OrdinalEncoder(categories=[['Mostly Cloudy', 'Rain', 'Clear', 'Partly Cloudy', 'Overcast',\n",
    "       'Light Rain', 'Foggy', 'Possible Drizzle', 'Drizzle'], # Defined 'weather'\n",
    "       ['am', 'pm'], # Defined 'time'\n",
    "       ['near', 'medium', 'far', 'very far'], # Defined distance level\n",
    "       [0,1], # Defined 'is_weekend'\n",
    "       ])\n",
    "\n",
    "encoder.fit(X_train_cat_ord)\n",
    "X_train_catold_encoded = encoder.transform(X_train_cat_ord)\n",
    "X_test_catold_encoded = encoder.transform(X_test_cat_ord)"
   ]
  },
  {
   "attachments": {},
   "cell_type": "markdown",
   "metadata": {},
   "source": [
    "### Encoding Category "
   ]
  },
  {
   "cell_type": "code",
   "execution_count": 364,
   "metadata": {},
   "outputs": [
    {
     "data": {
      "text/html": [
       "<style>#sk-container-id-3 {color: black;background-color: white;}#sk-container-id-3 pre{padding: 0;}#sk-container-id-3 div.sk-toggleable {background-color: white;}#sk-container-id-3 label.sk-toggleable__label {cursor: pointer;display: block;width: 100%;margin-bottom: 0;padding: 0.3em;box-sizing: border-box;text-align: center;}#sk-container-id-3 label.sk-toggleable__label-arrow:before {content: \"▸\";float: left;margin-right: 0.25em;color: #696969;}#sk-container-id-3 label.sk-toggleable__label-arrow:hover:before {color: black;}#sk-container-id-3 div.sk-estimator:hover label.sk-toggleable__label-arrow:before {color: black;}#sk-container-id-3 div.sk-toggleable__content {max-height: 0;max-width: 0;overflow: hidden;text-align: left;background-color: #f0f8ff;}#sk-container-id-3 div.sk-toggleable__content pre {margin: 0.2em;color: black;border-radius: 0.25em;background-color: #f0f8ff;}#sk-container-id-3 input.sk-toggleable__control:checked~div.sk-toggleable__content {max-height: 200px;max-width: 100%;overflow: auto;}#sk-container-id-3 input.sk-toggleable__control:checked~label.sk-toggleable__label-arrow:before {content: \"▾\";}#sk-container-id-3 div.sk-estimator input.sk-toggleable__control:checked~label.sk-toggleable__label {background-color: #d4ebff;}#sk-container-id-3 div.sk-label input.sk-toggleable__control:checked~label.sk-toggleable__label {background-color: #d4ebff;}#sk-container-id-3 input.sk-hidden--visually {border: 0;clip: rect(1px 1px 1px 1px);clip: rect(1px, 1px, 1px, 1px);height: 1px;margin: -1px;overflow: hidden;padding: 0;position: absolute;width: 1px;}#sk-container-id-3 div.sk-estimator {font-family: monospace;background-color: #f0f8ff;border: 1px dotted black;border-radius: 0.25em;box-sizing: border-box;margin-bottom: 0.5em;}#sk-container-id-3 div.sk-estimator:hover {background-color: #d4ebff;}#sk-container-id-3 div.sk-parallel-item::after {content: \"\";width: 100%;border-bottom: 1px solid gray;flex-grow: 1;}#sk-container-id-3 div.sk-label:hover label.sk-toggleable__label {background-color: #d4ebff;}#sk-container-id-3 div.sk-serial::before {content: \"\";position: absolute;border-left: 1px solid gray;box-sizing: border-box;top: 0;bottom: 0;left: 50%;z-index: 0;}#sk-container-id-3 div.sk-serial {display: flex;flex-direction: column;align-items: center;background-color: white;padding-right: 0.2em;padding-left: 0.2em;position: relative;}#sk-container-id-3 div.sk-item {position: relative;z-index: 1;}#sk-container-id-3 div.sk-parallel {display: flex;align-items: stretch;justify-content: center;background-color: white;position: relative;}#sk-container-id-3 div.sk-item::before, #sk-container-id-3 div.sk-parallel-item::before {content: \"\";position: absolute;border-left: 1px solid gray;box-sizing: border-box;top: 0;bottom: 0;left: 50%;z-index: -1;}#sk-container-id-3 div.sk-parallel-item {display: flex;flex-direction: column;z-index: 1;position: relative;background-color: white;}#sk-container-id-3 div.sk-parallel-item:first-child::after {align-self: flex-end;width: 50%;}#sk-container-id-3 div.sk-parallel-item:last-child::after {align-self: flex-start;width: 50%;}#sk-container-id-3 div.sk-parallel-item:only-child::after {width: 0;}#sk-container-id-3 div.sk-dashed-wrapped {border: 1px dashed gray;margin: 0 0.4em 0.5em 0.4em;box-sizing: border-box;padding-bottom: 0.4em;background-color: white;}#sk-container-id-3 div.sk-label label {font-family: monospace;font-weight: bold;display: inline-block;line-height: 1.2em;}#sk-container-id-3 div.sk-label-container {text-align: center;}#sk-container-id-3 div.sk-container {/* jupyter's `normalize.less` sets `[hidden] { display: none; }` but bootstrap.min.css set `[hidden] { display: none !important; }` so we also need the `!important` here to be able to override the default hidden behavior on the sphinx rendered scikit-learn.org. See: https://github.com/scikit-learn/scikit-learn/issues/21755 */display: inline-block !important;position: relative;}#sk-container-id-3 div.sk-text-repr-fallback {display: none;}</style><div id=\"sk-container-id-3\" class=\"sk-top-container\"><div class=\"sk-text-repr-fallback\"><pre>OneHotEncoder(sparse=False, sparse_output=False)</pre><b>In a Jupyter environment, please rerun this cell to show the HTML representation or trust the notebook. <br />On GitHub, the HTML representation is unable to render, please try loading this page with nbviewer.org.</b></div><div class=\"sk-container\" hidden><div class=\"sk-item\"><div class=\"sk-estimator sk-toggleable\"><input class=\"sk-toggleable__control sk-hidden--visually\" id=\"sk-estimator-id-3\" type=\"checkbox\" checked><label for=\"sk-estimator-id-3\" class=\"sk-toggleable__label sk-toggleable__label-arrow\">OneHotEncoder</label><div class=\"sk-toggleable__content\"><pre>OneHotEncoder(sparse=False, sparse_output=False)</pre></div></div></div></div></div>"
      ],
      "text/plain": [
       "OneHotEncoder(sparse=False, sparse_output=False)"
      ]
     },
     "execution_count": 364,
     "metadata": {},
     "output_type": "execute_result"
    }
   ],
   "source": [
    "# Feature encoding using OneHotEncoder\n",
    "column = ['cab_type', 'name']\n",
    "ohe = OneHotEncoder(sparse=False)\n",
    "ohe.fit(X_train_cat)"
   ]
  },
  {
   "cell_type": "code",
   "execution_count": 365,
   "metadata": {},
   "outputs": [],
   "source": [
    "# Assign to Train-set and Test-set\n",
    "X_train_cat_encoded = ohe.transform(X_train_cat)\n",
    "X_test_cat_encoded = ohe.transform(X_test_cat)"
   ]
  },
  {
   "cell_type": "code",
   "execution_count": 366,
   "metadata": {},
   "outputs": [
    {
     "data": {
      "text/plain": [
       "array([[0., 1., 0., ..., 0., 0., 0.],\n",
       "       [1., 0., 0., ..., 0., 0., 0.],\n",
       "       [1., 0., 0., ..., 0., 0., 0.],\n",
       "       ...,\n",
       "       [1., 0., 0., ..., 0., 0., 0.],\n",
       "       [0., 1., 0., ..., 0., 0., 1.],\n",
       "       [0., 1., 0., ..., 1., 0., 0.]])"
      ]
     },
     "execution_count": 366,
     "metadata": {},
     "output_type": "execute_result"
    }
   ],
   "source": [
    "X_train_cat_encoded"
   ]
  },
  {
   "cell_type": "code",
   "execution_count": 367,
   "metadata": {},
   "outputs": [
    {
     "data": {
      "text/plain": [
       "['Black SUV',\n",
       " 'Lux',\n",
       " 'Lyft',\n",
       " 'UberXL',\n",
       " 'Taxi',\n",
       " 'WAV',\n",
       " 'UberX',\n",
       " 'UberPool',\n",
       " 'Black',\n",
       " 'Lux Black XL',\n",
       " 'Lux Black',\n",
       " 'Lyft XL',\n",
       " 'Shared',\n",
       " 'Uber',\n",
       " 'Lyft']"
      ]
     },
     "execution_count": 367,
     "metadata": {},
     "output_type": "execute_result"
    }
   ],
   "source": [
    "# Create variable to store categorical column's name\n",
    "x = X_train['name'].unique()\n",
    "y = X_train['cab_type'].unique()\n",
    "feature_labels = np.concatenate((x,y))\n",
    "cat_labels = list(feature_labels)\n",
    "cat_labels"
   ]
  },
  {
   "attachments": {},
   "cell_type": "markdown",
   "metadata": {},
   "source": [
    "### Scalled Numerical Column"
   ]
  },
  {
   "cell_type": "code",
   "execution_count": 368,
   "metadata": {},
   "outputs": [],
   "source": [
    "# Define Test-set and Train-set for Numerical Column\n",
    "X_train_num = X_train_trimmed[num_col]\n",
    "X_test_num = X_test[num_col]"
   ]
  },
  {
   "cell_type": "code",
   "execution_count": 369,
   "metadata": {},
   "outputs": [],
   "source": [
    "# Feature Scalling using MniMaxScaller\n",
    "\n",
    "scaler = MinMaxScaler()\n",
    "scaler.fit(X_train_num)\n",
    "\n",
    "X_train_num_scaled = scaler.transform(X_train_num)\n",
    "X_test_num_scaled = scaler.transform(X_test_num)"
   ]
  },
  {
   "attachments": {},
   "cell_type": "markdown",
   "metadata": {},
   "source": [
    "### Joined All Encoded and Scalling "
   ]
  },
  {
   "cell_type": "code",
   "execution_count": 370,
   "metadata": {},
   "outputs": [
    {
     "data": {
      "text/html": [
       "<div>\n",
       "<style scoped>\n",
       "    .dataframe tbody tr th:only-of-type {\n",
       "        vertical-align: middle;\n",
       "    }\n",
       "\n",
       "    .dataframe tbody tr th {\n",
       "        vertical-align: top;\n",
       "    }\n",
       "\n",
       "    .dataframe thead tr th {\n",
       "        text-align: left;\n",
       "    }\n",
       "</style>\n",
       "<table border=\"1\" class=\"dataframe\">\n",
       "  <thead>\n",
       "    <tr>\n",
       "      <th></th>\n",
       "      <th>distance</th>\n",
       "      <th>surge_multiplier</th>\n",
       "      <th>Black SUV</th>\n",
       "      <th>Lux</th>\n",
       "      <th>Lyft</th>\n",
       "      <th>UberXL</th>\n",
       "      <th>Taxi</th>\n",
       "      <th>WAV</th>\n",
       "      <th>UberX</th>\n",
       "      <th>UberPool</th>\n",
       "      <th>Black</th>\n",
       "      <th>Lux Black XL</th>\n",
       "      <th>Lux Black</th>\n",
       "      <th>Lyft XL</th>\n",
       "      <th>Shared</th>\n",
       "      <th>Uber</th>\n",
       "      <th>Lyft</th>\n",
       "      <th>weather</th>\n",
       "      <th>time</th>\n",
       "      <th>distance_level</th>\n",
       "      <th>is_weekend</th>\n",
       "    </tr>\n",
       "  </thead>\n",
       "  <tbody>\n",
       "    <tr>\n",
       "      <th>0</th>\n",
       "      <td>0.308550</td>\n",
       "      <td>0.0</td>\n",
       "      <td>0.0</td>\n",
       "      <td>1.0</td>\n",
       "      <td>0.0</td>\n",
       "      <td>1.0</td>\n",
       "      <td>0.0</td>\n",
       "      <td>0.0</td>\n",
       "      <td>0.0</td>\n",
       "      <td>0.0</td>\n",
       "      <td>0.0</td>\n",
       "      <td>0.0</td>\n",
       "      <td>0.0</td>\n",
       "      <td>0.0</td>\n",
       "      <td>0.0</td>\n",
       "      <td>0.0</td>\n",
       "      <td>0.0</td>\n",
       "      <td>0.0</td>\n",
       "      <td>0.0</td>\n",
       "      <td>0.0</td>\n",
       "      <td>0.0</td>\n",
       "    </tr>\n",
       "    <tr>\n",
       "      <th>1</th>\n",
       "      <td>0.373606</td>\n",
       "      <td>0.0</td>\n",
       "      <td>1.0</td>\n",
       "      <td>0.0</td>\n",
       "      <td>0.0</td>\n",
       "      <td>0.0</td>\n",
       "      <td>1.0</td>\n",
       "      <td>0.0</td>\n",
       "      <td>0.0</td>\n",
       "      <td>0.0</td>\n",
       "      <td>0.0</td>\n",
       "      <td>0.0</td>\n",
       "      <td>0.0</td>\n",
       "      <td>0.0</td>\n",
       "      <td>0.0</td>\n",
       "      <td>0.0</td>\n",
       "      <td>0.0</td>\n",
       "      <td>7.0</td>\n",
       "      <td>0.0</td>\n",
       "      <td>1.0</td>\n",
       "      <td>0.0</td>\n",
       "    </tr>\n",
       "    <tr>\n",
       "      <th>2</th>\n",
       "      <td>0.185874</td>\n",
       "      <td>0.0</td>\n",
       "      <td>1.0</td>\n",
       "      <td>0.0</td>\n",
       "      <td>0.0</td>\n",
       "      <td>0.0</td>\n",
       "      <td>0.0</td>\n",
       "      <td>0.0</td>\n",
       "      <td>0.0</td>\n",
       "      <td>1.0</td>\n",
       "      <td>0.0</td>\n",
       "      <td>0.0</td>\n",
       "      <td>0.0</td>\n",
       "      <td>0.0</td>\n",
       "      <td>0.0</td>\n",
       "      <td>0.0</td>\n",
       "      <td>0.0</td>\n",
       "      <td>4.0</td>\n",
       "      <td>1.0</td>\n",
       "      <td>0.0</td>\n",
       "      <td>0.0</td>\n",
       "    </tr>\n",
       "    <tr>\n",
       "      <th>3</th>\n",
       "      <td>0.087361</td>\n",
       "      <td>0.0</td>\n",
       "      <td>0.0</td>\n",
       "      <td>1.0</td>\n",
       "      <td>0.0</td>\n",
       "      <td>0.0</td>\n",
       "      <td>0.0</td>\n",
       "      <td>0.0</td>\n",
       "      <td>0.0</td>\n",
       "      <td>0.0</td>\n",
       "      <td>0.0</td>\n",
       "      <td>0.0</td>\n",
       "      <td>0.0</td>\n",
       "      <td>0.0</td>\n",
       "      <td>0.0</td>\n",
       "      <td>1.0</td>\n",
       "      <td>0.0</td>\n",
       "      <td>0.0</td>\n",
       "      <td>0.0</td>\n",
       "      <td>0.0</td>\n",
       "      <td>0.0</td>\n",
       "    </tr>\n",
       "    <tr>\n",
       "      <th>4</th>\n",
       "      <td>0.516729</td>\n",
       "      <td>0.0</td>\n",
       "      <td>0.0</td>\n",
       "      <td>1.0</td>\n",
       "      <td>0.0</td>\n",
       "      <td>0.0</td>\n",
       "      <td>0.0</td>\n",
       "      <td>0.0</td>\n",
       "      <td>0.0</td>\n",
       "      <td>0.0</td>\n",
       "      <td>0.0</td>\n",
       "      <td>0.0</td>\n",
       "      <td>1.0</td>\n",
       "      <td>0.0</td>\n",
       "      <td>0.0</td>\n",
       "      <td>0.0</td>\n",
       "      <td>0.0</td>\n",
       "      <td>2.0</td>\n",
       "      <td>0.0</td>\n",
       "      <td>1.0</td>\n",
       "      <td>0.0</td>\n",
       "    </tr>\n",
       "  </tbody>\n",
       "</table>\n",
       "</div>"
      ],
      "text/plain": [
       "   distance surge_multiplier Black SUV  Lux Lyft UberXL Taxi  WAV UberX  \\\n",
       "0  0.308550              0.0       0.0  1.0  0.0    1.0  0.0  0.0   0.0   \n",
       "1  0.373606              0.0       1.0  0.0  0.0    0.0  1.0  0.0   0.0   \n",
       "2  0.185874              0.0       1.0  0.0  0.0    0.0  0.0  0.0   0.0   \n",
       "3  0.087361              0.0       0.0  1.0  0.0    0.0  0.0  0.0   0.0   \n",
       "4  0.516729              0.0       0.0  1.0  0.0    0.0  0.0  0.0   0.0   \n",
       "\n",
       "  UberPool Black Lux Black XL Lux Black Lyft XL Shared Uber Lyft weather time  \\\n",
       "0      0.0   0.0          0.0       0.0     0.0    0.0  0.0  0.0     0.0  0.0   \n",
       "1      0.0   0.0          0.0       0.0     0.0    0.0  0.0  0.0     7.0  0.0   \n",
       "2      1.0   0.0          0.0       0.0     0.0    0.0  0.0  0.0     4.0  1.0   \n",
       "3      0.0   0.0          0.0       0.0     0.0    0.0  1.0  0.0     0.0  0.0   \n",
       "4      0.0   0.0          0.0       1.0     0.0    0.0  0.0  0.0     2.0  0.0   \n",
       "\n",
       "  distance_level is_weekend  \n",
       "0            0.0        0.0  \n",
       "1            1.0        0.0  \n",
       "2            0.0        0.0  \n",
       "3            0.0        0.0  \n",
       "4            1.0        0.0  "
      ]
     },
     "execution_count": 370,
     "metadata": {},
     "output_type": "execute_result"
    }
   ],
   "source": [
    "# Join array for scaled and encoded features\n",
    "X_train_final = np.concatenate([X_train_num_scaled, X_train_cat_encoded, X_train_catold_encoded], axis=1)\n",
    "X_test_final = np.concatenate([X_test_num_scaled, X_test_cat_encoded, X_test_catold_encoded], axis=1)\n",
    "\n",
    "# Create dataframe for all joined array\n",
    "X_train_final_df = pd.DataFrame(X_train_final, columns = [num_col + cat_labels + cat_col_ord])\n",
    "X_train_final_df.head()\n"
   ]
  },
  {
   "attachments": {},
   "cell_type": "markdown",
   "metadata": {},
   "source": [
    "# 6. Model Definition\n",
    "\n",
    "Linear regression is a commonly used statistical technique for predicting numerical values, such as prices. Here are some advantages and disadvantages of using linear regression for price prediction:\n",
    "\n",
    "Advantages:\n",
    "\n",
    " - Simplicity: Linear regression is a simple and easy-to-understand method that requires minimal assumptions and can be easily implemented.\n",
    " - Interpretability: Linear regression provides a clear relationship between the dependent variable (price) and the independent variables (predictors), making it easy to interpret the results and draw conclusions.\n",
    " - Versatility: Linear regression can be used to predict a wide range of numerical values, making it a versatile tool for various industries and applications.\n",
    "\n",
    "\n",
    "Disadvantages:\n",
    "\n",
    " - Linearity assumption: Linear regression assumes a linear relationship between the dependent variable and the independent variables, which may not be the case in reality.\n",
    " - Overfitting: Linear regression can be prone to overfitting if the model is too complex or there are too many predictors relative to the number of observations in the data.\n",
    " - Outliers: Linear regression is sensitive to outliers, which can affect the accuracy and reliability of the predictions."
   ]
  },
  {
   "cell_type": "code",
   "execution_count": 371,
   "metadata": {},
   "outputs": [],
   "source": [
    "# Define model\n",
    "model_lin_reg = LinearRegression()"
   ]
  },
  {
   "attachments": {},
   "cell_type": "markdown",
   "metadata": {},
   "source": [
    "# 7. Model Training"
   ]
  },
  {
   "cell_type": "code",
   "execution_count": 372,
   "metadata": {},
   "outputs": [
    {
     "data": {
      "text/html": [
       "<style>#sk-container-id-4 {color: black;background-color: white;}#sk-container-id-4 pre{padding: 0;}#sk-container-id-4 div.sk-toggleable {background-color: white;}#sk-container-id-4 label.sk-toggleable__label {cursor: pointer;display: block;width: 100%;margin-bottom: 0;padding: 0.3em;box-sizing: border-box;text-align: center;}#sk-container-id-4 label.sk-toggleable__label-arrow:before {content: \"▸\";float: left;margin-right: 0.25em;color: #696969;}#sk-container-id-4 label.sk-toggleable__label-arrow:hover:before {color: black;}#sk-container-id-4 div.sk-estimator:hover label.sk-toggleable__label-arrow:before {color: black;}#sk-container-id-4 div.sk-toggleable__content {max-height: 0;max-width: 0;overflow: hidden;text-align: left;background-color: #f0f8ff;}#sk-container-id-4 div.sk-toggleable__content pre {margin: 0.2em;color: black;border-radius: 0.25em;background-color: #f0f8ff;}#sk-container-id-4 input.sk-toggleable__control:checked~div.sk-toggleable__content {max-height: 200px;max-width: 100%;overflow: auto;}#sk-container-id-4 input.sk-toggleable__control:checked~label.sk-toggleable__label-arrow:before {content: \"▾\";}#sk-container-id-4 div.sk-estimator input.sk-toggleable__control:checked~label.sk-toggleable__label {background-color: #d4ebff;}#sk-container-id-4 div.sk-label input.sk-toggleable__control:checked~label.sk-toggleable__label {background-color: #d4ebff;}#sk-container-id-4 input.sk-hidden--visually {border: 0;clip: rect(1px 1px 1px 1px);clip: rect(1px, 1px, 1px, 1px);height: 1px;margin: -1px;overflow: hidden;padding: 0;position: absolute;width: 1px;}#sk-container-id-4 div.sk-estimator {font-family: monospace;background-color: #f0f8ff;border: 1px dotted black;border-radius: 0.25em;box-sizing: border-box;margin-bottom: 0.5em;}#sk-container-id-4 div.sk-estimator:hover {background-color: #d4ebff;}#sk-container-id-4 div.sk-parallel-item::after {content: \"\";width: 100%;border-bottom: 1px solid gray;flex-grow: 1;}#sk-container-id-4 div.sk-label:hover label.sk-toggleable__label {background-color: #d4ebff;}#sk-container-id-4 div.sk-serial::before {content: \"\";position: absolute;border-left: 1px solid gray;box-sizing: border-box;top: 0;bottom: 0;left: 50%;z-index: 0;}#sk-container-id-4 div.sk-serial {display: flex;flex-direction: column;align-items: center;background-color: white;padding-right: 0.2em;padding-left: 0.2em;position: relative;}#sk-container-id-4 div.sk-item {position: relative;z-index: 1;}#sk-container-id-4 div.sk-parallel {display: flex;align-items: stretch;justify-content: center;background-color: white;position: relative;}#sk-container-id-4 div.sk-item::before, #sk-container-id-4 div.sk-parallel-item::before {content: \"\";position: absolute;border-left: 1px solid gray;box-sizing: border-box;top: 0;bottom: 0;left: 50%;z-index: -1;}#sk-container-id-4 div.sk-parallel-item {display: flex;flex-direction: column;z-index: 1;position: relative;background-color: white;}#sk-container-id-4 div.sk-parallel-item:first-child::after {align-self: flex-end;width: 50%;}#sk-container-id-4 div.sk-parallel-item:last-child::after {align-self: flex-start;width: 50%;}#sk-container-id-4 div.sk-parallel-item:only-child::after {width: 0;}#sk-container-id-4 div.sk-dashed-wrapped {border: 1px dashed gray;margin: 0 0.4em 0.5em 0.4em;box-sizing: border-box;padding-bottom: 0.4em;background-color: white;}#sk-container-id-4 div.sk-label label {font-family: monospace;font-weight: bold;display: inline-block;line-height: 1.2em;}#sk-container-id-4 div.sk-label-container {text-align: center;}#sk-container-id-4 div.sk-container {/* jupyter's `normalize.less` sets `[hidden] { display: none; }` but bootstrap.min.css set `[hidden] { display: none !important; }` so we also need the `!important` here to be able to override the default hidden behavior on the sphinx rendered scikit-learn.org. See: https://github.com/scikit-learn/scikit-learn/issues/21755 */display: inline-block !important;position: relative;}#sk-container-id-4 div.sk-text-repr-fallback {display: none;}</style><div id=\"sk-container-id-4\" class=\"sk-top-container\"><div class=\"sk-text-repr-fallback\"><pre>LinearRegression()</pre><b>In a Jupyter environment, please rerun this cell to show the HTML representation or trust the notebook. <br />On GitHub, the HTML representation is unable to render, please try loading this page with nbviewer.org.</b></div><div class=\"sk-container\" hidden><div class=\"sk-item\"><div class=\"sk-estimator sk-toggleable\"><input class=\"sk-toggleable__control sk-hidden--visually\" id=\"sk-estimator-id-4\" type=\"checkbox\" checked><label for=\"sk-estimator-id-4\" class=\"sk-toggleable__label sk-toggleable__label-arrow\">LinearRegression</label><div class=\"sk-toggleable__content\"><pre>LinearRegression()</pre></div></div></div></div></div>"
      ],
      "text/plain": [
       "LinearRegression()"
      ]
     },
     "execution_count": 372,
     "metadata": {},
     "output_type": "execute_result"
    }
   ],
   "source": [
    "# Fit Train-set\n",
    "model_lin_reg.fit(X_train_final, y_train_trimmed)"
   ]
  },
  {
   "attachments": {},
   "cell_type": "markdown",
   "metadata": {},
   "source": [
    "# 8. Model Evaluation"
   ]
  },
  {
   "cell_type": "code",
   "execution_count": 373,
   "metadata": {},
   "outputs": [
    {
     "data": {
      "text/plain": [
       "array([[28.72560883],\n",
       "       [16.87599182],\n",
       "       [ 6.20276642],\n",
       "       ...,\n",
       "       [ 7.62471008],\n",
       "       [10.88349152],\n",
       "       [ 7.95122528]])"
      ]
     },
     "execution_count": 373,
     "metadata": {},
     "output_type": "execute_result"
    }
   ],
   "source": [
    "# Predict Train-set and Test-set\n",
    "y_pred_train = model_lin_reg.predict(X_train_final)\n",
    "y_pred_test = model_lin_reg.predict(X_test_final)\n",
    "y_pred_train"
   ]
  },
  {
   "cell_type": "code",
   "execution_count": 374,
   "metadata": {},
   "outputs": [
    {
     "data": {
      "text/html": [
       "<div>\n",
       "<style scoped>\n",
       "    .dataframe tbody tr th:only-of-type {\n",
       "        vertical-align: middle;\n",
       "    }\n",
       "\n",
       "    .dataframe tbody tr th {\n",
       "        vertical-align: top;\n",
       "    }\n",
       "\n",
       "    .dataframe thead th {\n",
       "        text-align: right;\n",
       "    }\n",
       "</style>\n",
       "<table border=\"1\" class=\"dataframe\">\n",
       "  <thead>\n",
       "    <tr style=\"text-align: right;\">\n",
       "      <th></th>\n",
       "      <th>price</th>\n",
       "    </tr>\n",
       "  </thead>\n",
       "  <tbody>\n",
       "    <tr>\n",
       "      <th>424231</th>\n",
       "      <td>30.5</td>\n",
       "    </tr>\n",
       "    <tr>\n",
       "      <th>462379</th>\n",
       "      <td>16.5</td>\n",
       "    </tr>\n",
       "    <tr>\n",
       "      <th>517429</th>\n",
       "      <td>7.0</td>\n",
       "    </tr>\n",
       "    <tr>\n",
       "      <th>23107</th>\n",
       "      <td>10.5</td>\n",
       "    </tr>\n",
       "    <tr>\n",
       "      <th>354648</th>\n",
       "      <td>13.5</td>\n",
       "    </tr>\n",
       "  </tbody>\n",
       "</table>\n",
       "</div>"
      ],
      "text/plain": [
       "        price\n",
       "424231   30.5\n",
       "462379   16.5\n",
       "517429    7.0\n",
       "23107    10.5\n",
       "354648   13.5"
      ]
     },
     "execution_count": 374,
     "metadata": {},
     "output_type": "execute_result"
    }
   ],
   "source": [
    "# Display y_train\n",
    "y_train.head()"
   ]
  },
  {
   "cell_type": "code",
   "execution_count": 375,
   "metadata": {},
   "outputs": [
    {
     "name": "stdout",
     "output_type": "stream",
     "text": [
      "Error - Train Set:  1.67\n",
      "Error - Test Set:  1.82\n",
      "\n",
      "Percentage Error - Train Set:  12.71 %\n",
      "Percentage Error - Test Set:  13.02 %\n",
      " \n",
      "R2 score - Test Set 92.81 %\n",
      "R2 score - Train Set:  91.29 %\n"
     ]
    }
   ],
   "source": [
    "# Model Evaluation using MAE, MAPE and R2 Score\n",
    "\n",
    "print('Error - Train Set: ', round(mean_absolute_error(y_train_trimmed, y_pred_train),2))\n",
    "print('Error - Test Set: ', round(mean_absolute_error(y_test, y_pred_test),2))\n",
    "print('')\n",
    "print('Percentage Error - Train Set: ', round(mean_absolute_percentage_error(y_train_trimmed, y_pred_train)*100,2),'%')\n",
    "print('Percentage Error - Test Set: ', round(mean_absolute_percentage_error(y_test, y_pred_test)*100,2),'%')\n",
    "print(' ')\n",
    "print('R2 score - Test Set', round(r2_score(y_train_trimmed, y_pred_train)*100,2),'%')\n",
    "print('R2 score - Train Set: ', round(r2_score(y_test, y_pred_test)*100,2),'%')\n"
   ]
  },
  {
   "attachments": {},
   "cell_type": "markdown",
   "metadata": {},
   "source": [
    "`INSIGHT`:\n",
    "\n",
    "In the context of the Uber and Lyft analysis in Boston in 2018, an `MAE` of `1.67` means that on average, since the mean absolute error shows `1.67` and `1.82` the predictions made by the model differ from the actual values by said units. For example, if the model predicts a fare of `$20` for a ride, the actual fare could be anywhere between `$18.33` and `$21.67`, given the MAE of `1.67` with the percentage average of these percentage errors across all the observations is `12.71` and `13.02` for train and test set respectfully. As the `MAE` between the train and test set is not that far we can conclude that the model is `goodfit`, moreover the accuracy that we have set in the beginning is exceed up to `2.81` and `1.29` for train and test set respectfully.\n",
    "\n",
    "To improve the accuracy of the regression model, here are some features you may consider adding:\n",
    "\n",
    " 1. `Density/peak hour of demand vs. driver availability`: As mentioned earlier, this information could be used to optimize driver allocation and improve service availability during peak demand hours.\n",
    "\n",
    " 2. `Traffic conditions`: The addition of traffic data could help to more accurately predict the duration of trips and therefore the fares.\n",
    "\n",
    " 3. `Promotions`: Adding a feature to capture promotions or discounts could help to predict the fare and duration for customers who use these promotions.\n",
    "\n",
    "Overall, adding more features to the regression model could help to improve the accuracy of the predictions and provide more valuable insights into the factors that affect Uber and Lyft fares and durations in Boston.\n"
   ]
  },
  {
   "attachments": {},
   "cell_type": "markdown",
   "metadata": {},
   "source": [
    "# 9. Model Saving"
   ]
  },
  {
   "cell_type": "code",
   "execution_count": 360,
   "metadata": {},
   "outputs": [],
   "source": [
    "with open('model_lin_reg.pkl', 'wb') as file_1:\n",
    "    pickle.dump(model_lin_reg, file_1)\n",
    "\n",
    "with open('model_scaler.pkl', 'wb') as file_2:\n",
    "    pickle.dump(scaler, file_2)\n",
    "\n",
    "with open('model_encoder_ord.pkl', 'wb') as file_3:\n",
    "    pickle.dump(encoder, file_3)\n",
    "\n",
    "with open(\"model_encoder.pkl\", \"wb\") as file_4: \n",
    "    pickle.dump(ohe, file_4)\n",
    "\n",
    "with open('list_num_cols.txt', 'w') as file_5:\n",
    "    json.dump(num_col, file_5)\n",
    "\n",
    "with open('list_cat_cols.txt', 'w') as file_6:\n",
    "    json.dump(cat_col, file_6)\n",
    "\n",
    "with open('list_cat_cols_ord.txt', 'w') as file_7:\n",
    "    json.dump(cat_col_ord, file_7)"
   ]
  },
  {
   "attachments": {},
   "cell_type": "markdown",
   "metadata": {},
   "source": [
    "# 10. Conclusion"
   ]
  },
  {
   "cell_type": "code",
   "execution_count": 361,
   "metadata": {},
   "outputs": [
    {
     "name": "stdout",
     "output_type": "stream",
     "text": [
      "Intercept:  [5.74005978e+10]\n",
      "Slope:  [[ 1.31729390e+01  2.62258056e+01 -2.02423999e+10 -1.41273720e+11\n",
      "   8.38731219e+10  8.38731219e+10 -3.71581979e+10 -3.71581979e+10\n",
      "  -3.71581979e+10 -3.71581980e+10 -3.71581979e+10 -3.71581980e+10\n",
      "   8.38731219e+10  8.38731219e+10  8.38731219e+10  8.38731219e+10\n",
      "   8.38731219e+10 -3.78242949e-04 -2.99512133e-03  9.96845573e-02\n",
      "   3.28879373e-03]]\n"
     ]
    }
   ],
   "source": [
    "# Get intercept and Slope\n",
    "print('Intercept: ', model_lin_reg.intercept_)\n",
    "print('Slope: ', model_lin_reg.coef_)"
   ]
  },
  {
   "cell_type": "code",
   "execution_count": 362,
   "metadata": {},
   "outputs": [
    {
     "data": {
      "text/plain": [
       "MultiIndex([(        'distance',),\n",
       "            ('surge_multiplier',),\n",
       "            (       'Black SUV',),\n",
       "            (             'Lux',),\n",
       "            (            'Lyft',),\n",
       "            (          'UberXL',),\n",
       "            (            'Taxi',),\n",
       "            (             'WAV',),\n",
       "            (           'UberX',),\n",
       "            (        'UberPool',),\n",
       "            (           'Black',),\n",
       "            (    'Lux Black XL',),\n",
       "            (       'Lux Black',),\n",
       "            (         'Lyft XL',),\n",
       "            (          'Shared',),\n",
       "            (            'Uber',),\n",
       "            (            'Lyft',),\n",
       "            (         'weather',),\n",
       "            (            'time',),\n",
       "            (  'distance_level',),\n",
       "            (      'is_weekend',)],\n",
       "           )"
      ]
     },
     "execution_count": 362,
     "metadata": {},
     "output_type": "execute_result"
    }
   ],
   "source": [
    "# List All Columns\n",
    "X_train_final_df.columns"
   ]
  },
  {
   "attachments": {},
   "cell_type": "markdown",
   "metadata": {},
   "source": [
    "`Conclusion`:\n",
    "\n",
    "In conclusion, the analysis of Uber and Lyft data in Boston in 2018 shows that online taxi services are a popular and convenient option for commuters. Order mostly took place when the weather is `overcast` or `cloudy` compare when it's `clear` or even `rain`. The regression model used in this analysis had a high R2 score of `92.81%` on the test set and `91.29%` on the train set, indicating that the model accurately predicts the fare, duration, or other dependent variables based on the independent variables. The error rate for both the train set and test set was relatively low at `1.67` and `1.82`, respectively, and the percentage error was around `13%`.\n",
    "\n",
    "The intercept in this model was `5.74`, which represents the predicted value of the dependent variable when all independent variables are equal to zero. As for the regression cooficient or slope, we can see distance level generates higher value compare to other features, it means that the fare would linearly will increase if the distance level also increase. It also applies if the user take a more premium taxi services in each of Lyft or Uber such as `Lyft, UberXL Lux Black XL, Lux Black, Lyft XL`. In summary, the regression model provides valuable insights into the factors that affect Uber and Lyft services fares and durations in Boston, and these findings can be used to optimize and improve the services provided by these companies.\n",
    "\n",
    "From the dataset we can't found the `density/peak hour of the demand` vs the `availability of the driver`. It created the prediction is bias towards the `type of services` the user taken and `the weather` as the comparison between `price` and `distance` doesn't show a well distributed linear line. I believe if the dataset has feature contained of this value, the prediction of the `fare/price` could be more higher.\n",
    "\n",
    "`Recommendations`:\n",
    " * Both `Lyft` and `Uber` should enhance their model in assigning driver to the user and make sure the availabilty of the driver is suffiecient during the busy hour, especially when the weather is is `overcast` or `cloudy`. Consider gathering additional data on the density/peak hours of demand vs. driver availability. This information could be used to optimize driver allocation and improve service availability during peak demand hours.\n",
    "\n",
    "* Use the regression model to optimize pricing strategies. The model provides valuable insights into the factors that affect `Uber` and `Lyft` fares and durations, and these findings can be used to optimize and improve the pricing strategies for these companies.\n",
    "\n",
    "* Consider expanding the services offered to include more premium options. The regression model shows that more `premium services` such as `Lyft XL` or `Lux Black` result in higher fares, so offering a `wider range of premium services` could increase revenue for the companies.\n",
    "\n"
   ]
  },
  {
   "attachments": {},
   "cell_type": "markdown",
   "metadata": {},
   "source": [
    "# Reference\n",
    "\n",
    "- https://help.lyft.com/hc/e/all/articles/115013080308-How-to-estimate-the-cost-of-a-Lyft-ride\n",
    "- https://www.uber.com/global/en/price-estimate/\n",
    "- https://www.weather.gov/\n",
    "- https://towardsdatascience.com/dealing-with-features-that-have-high-cardinality-1c9212d7ff1b\n",
    "- https://www.kaggle.com/brllrb/uber-and-lyft-dataset-boston-ma"
   ]
  }
 ],
 "metadata": {
  "kernelspec": {
   "display_name": "Python 3",
   "language": "python",
   "name": "python3"
  },
  "language_info": {
   "codemirror_mode": {
    "name": "ipython",
    "version": 3
   },
   "file_extension": ".py",
   "mimetype": "text/x-python",
   "name": "python",
   "nbconvert_exporter": "python",
   "pygments_lexer": "ipython3",
   "version": "3.10.10"
  },
  "orig_nbformat": 4,
  "vscode": {
   "interpreter": {
    "hash": "30a178c2b79051aa8ff82f98b6d3e9c2ae4be75e83bfba926ce0481aa953e0f8"
   }
  }
 },
 "nbformat": 4,
 "nbformat_minor": 2
}
