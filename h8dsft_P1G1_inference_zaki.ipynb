{
 "cells": [
  {
   "attachments": {},
   "cell_type": "markdown",
   "metadata": {},
   "source": [
    "# Inference"
   ]
  },
  {
   "attachments": {},
   "cell_type": "markdown",
   "metadata": {},
   "source": [
    "## Import Libraries"
   ]
  },
  {
   "cell_type": "code",
   "execution_count": 3,
   "metadata": {},
   "outputs": [],
   "source": [
    "import pickle\n",
    "import json\n",
    "import pandas as pd\n",
    "import numpy as np"
   ]
  },
  {
   "attachments": {},
   "cell_type": "markdown",
   "metadata": {},
   "source": [
    "## Import Model"
   ]
  },
  {
   "cell_type": "code",
   "execution_count": 4,
   "metadata": {},
   "outputs": [],
   "source": [
    "with open('model_lin_reg.pkl', 'rb') as file_1:\n",
    "    model_lin_reg = pickle.load(file_1)\n",
    "\n",
    "with open('model_scaler.pkl', 'rb') as file_2:\n",
    "    model_scaler = pickle.load(file_2)\n",
    "\n",
    "with open('model_encoder_ord.pkl', 'rb') as file_3:\n",
    "    model_encoder_ord = pickle.load(file_3)\n",
    "\n",
    "with open(\"model_encoder.pkl\", \"rb\") as file_4: \n",
    "    model_encoder = pickle.load(file_4)\n",
    "\n",
    "with open('list_num_cols.txt', 'r') as file_5:\n",
    "    list_num_cols = json.load(file_5)\n",
    "\n",
    "with open('list_cat_cols.txt', 'r') as file_6:\n",
    "    list_cat_cols = json.load(file_6)\n",
    "\n",
    "with open('list_cat_cols_ord.txt', 'r') as file_7:\n",
    "    list_cat_cols_ord = json.load(file_7)"
   ]
  },
  {
   "attachments": {},
   "cell_type": "markdown",
   "metadata": {},
   "source": [
    "## Create Dummy Data "
   ]
  },
  {
   "cell_type": "code",
   "execution_count": 5,
   "metadata": {},
   "outputs": [
    {
     "data": {
      "text/html": [
       "<div>\n",
       "<style scoped>\n",
       "    .dataframe tbody tr th:only-of-type {\n",
       "        vertical-align: middle;\n",
       "    }\n",
       "\n",
       "    .dataframe tbody tr th {\n",
       "        vertical-align: top;\n",
       "    }\n",
       "\n",
       "    .dataframe thead th {\n",
       "        text-align: right;\n",
       "    }\n",
       "</style>\n",
       "<table border=\"1\" class=\"dataframe\">\n",
       "  <thead>\n",
       "    <tr style=\"text-align: right;\">\n",
       "      <th></th>\n",
       "      <th>weather</th>\n",
       "      <th>cab_type</th>\n",
       "      <th>name</th>\n",
       "      <th>distance</th>\n",
       "      <th>time</th>\n",
       "      <th>distance_level</th>\n",
       "      <th>is_weekend</th>\n",
       "      <th>surge_multiplier</th>\n",
       "    </tr>\n",
       "  </thead>\n",
       "  <tbody>\n",
       "    <tr>\n",
       "      <th>0</th>\n",
       "      <td>Rain</td>\n",
       "      <td>Lyft</td>\n",
       "      <td>Lux Black XL</td>\n",
       "      <td>2.33</td>\n",
       "      <td>pm</td>\n",
       "      <td>medium</td>\n",
       "      <td>1</td>\n",
       "      <td>2</td>\n",
       "    </tr>\n",
       "  </tbody>\n",
       "</table>\n",
       "</div>"
      ],
      "text/plain": [
       "  weather cab_type          name  distance time distance_level  is_weekend  \\\n",
       "0    Rain     Lyft  Lux Black XL      2.33   pm         medium           1   \n",
       "\n",
       "   surge_multiplier  \n",
       "0                 2  "
      ]
     },
     "execution_count": 5,
     "metadata": {},
     "output_type": "execute_result"
    }
   ],
   "source": [
    "data_inf = {\n",
    "    'weather': 'Rain',\n",
    "    'cab_type': 'Lyft',\n",
    "    'name': 'Lux Black XL',\n",
    "    'distance': 2.33,\n",
    "    'time': 'pm',\n",
    "    'distance_level': 'medium',\n",
    "    'is_weekend': 1,\n",
    "    'surge_multiplier': 2,\n",
    "}\n",
    "\n",
    "data_inf = pd.DataFrame([data_inf])\n",
    "data_inf"
   ]
  },
  {
   "cell_type": "code",
   "execution_count": 6,
   "metadata": {},
   "outputs": [
    {
     "data": {
      "text/html": [
       "<div>\n",
       "<style scoped>\n",
       "    .dataframe tbody tr th:only-of-type {\n",
       "        vertical-align: middle;\n",
       "    }\n",
       "\n",
       "    .dataframe tbody tr th {\n",
       "        vertical-align: top;\n",
       "    }\n",
       "\n",
       "    .dataframe thead th {\n",
       "        text-align: right;\n",
       "    }\n",
       "</style>\n",
       "<table border=\"1\" class=\"dataframe\">\n",
       "  <thead>\n",
       "    <tr style=\"text-align: right;\">\n",
       "      <th></th>\n",
       "      <th>cab_type</th>\n",
       "      <th>name</th>\n",
       "    </tr>\n",
       "  </thead>\n",
       "  <tbody>\n",
       "    <tr>\n",
       "      <th>0</th>\n",
       "      <td>Lyft</td>\n",
       "      <td>Lux Black XL</td>\n",
       "    </tr>\n",
       "  </tbody>\n",
       "</table>\n",
       "</div>"
      ],
      "text/plain": [
       "  cab_type          name\n",
       "0     Lyft  Lux Black XL"
      ]
     },
     "execution_count": 6,
     "metadata": {},
     "output_type": "execute_result"
    }
   ],
   "source": [
    "# Split num and cat cols\n",
    "data_inf_cat = data_inf[list_cat_cols]\n",
    "data_inf_num = data_inf[list_num_cols]\n",
    "data_inf_cat_ord = data_inf[list_cat_cols_ord]\n",
    "data_inf_cat\n"
   ]
  },
  {
   "cell_type": "code",
   "execution_count": 7,
   "metadata": {},
   "outputs": [],
   "source": [
    "# feature scaling and feature encoding\n",
    "data_inf_num_scaled = model_scaler.transform(data_inf_num)\n",
    "data_inf_cat_ord_encoded = model_encoder_ord.transform(data_inf_cat_ord)\n",
    "data_inf_cat_encoded = model_encoder.transform(data_inf_cat)\n",
    "data_inf_final = np.concatenate([data_inf_num_scaled, data_inf_cat_encoded, data_inf_cat_ord_encoded], axis=1)"
   ]
  },
  {
   "cell_type": "code",
   "execution_count": 8,
   "metadata": {},
   "outputs": [
    {
     "data": {
      "text/plain": [
       "array([44.34921265])"
      ]
     },
     "execution_count": 8,
     "metadata": {},
     "output_type": "execute_result"
    }
   ],
   "source": [
    "# Predict using Linear Regression\n",
    "y_pred_inf = model_lin_reg.predict(data_inf_final)\n",
    "y_pred_inf"
   ]
  },
  {
   "attachments": {},
   "cell_type": "markdown",
   "metadata": {},
   "source": [
    "## Conclusion\n",
    "\n",
    "The predicted fare is `44.34 USD` and the model has an Error of `1.67%` for the training set and `1.82%` for the test set, it means that the actual fare values are expected to be within a range of `42.67 USD` to `45.01 USD` `(44.34 - 1.67 and 44.34 + 1.82)` for the training set and a range of `42.52 USD` to `45.16 USD` `(44.34 - 1.82 and 44.34 + 1.82)` for the test set.\n",
    "\n",
    "The percentage error for the training set is `12.71%`, and for the test set, it is `13.02%`. This indicates that the model's predictions may deviate from the actual fare values by up to approximately 13% in either direction.\n",
    "\n",
    "The R2 score for the test set is `92.81%`, which means that the model explains `92.81%` of the variance in the fare values on the test set. Similarly, the R2 score for the training set is `91.29%`, which means that the model explains `91.29%` of the variance in the fare values on the training set.\n",
    "\n",
    "Overall, these performance metrics suggest that the model is reasonably accurate in predicting fare values based on the independent variables in the dataset. However, there is still some room for improvement, and the model's predictions may not be entirely precise for all scenarios."
   ]
  }
 ],
 "metadata": {
  "kernelspec": {
   "display_name": "Python 3",
   "language": "python",
   "name": "python3"
  },
  "language_info": {
   "codemirror_mode": {
    "name": "ipython",
    "version": 3
   },
   "file_extension": ".py",
   "mimetype": "text/x-python",
   "name": "python",
   "nbconvert_exporter": "python",
   "pygments_lexer": "ipython3",
   "version": "3.10.10"
  },
  "orig_nbformat": 4
 },
 "nbformat": 4,
 "nbformat_minor": 2
}
